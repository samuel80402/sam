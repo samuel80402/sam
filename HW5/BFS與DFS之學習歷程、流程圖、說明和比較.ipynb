{
 "cells": [
  {
   "cell_type": "markdown",
   "metadata": {},
   "source": [
    "# BFS & DFS\n",
    "    本次作業為BFS和DFS，這兩種演算法皆是程式在走訪一個圖(Graph)時會使用的演算法。本次作業的目標則是根據輸入的Graph鄰邊表，以兩種演算法分別走訪該圖，並依照兩種不同的演算法來呈現各個演算法走訪每個節點的順序。\n",
    "![bfs](https://github.com/samuel80402/sam/blob/master/picture/bfs/380867.jpg?raw=true)\n",
    "![dfs](https://github.com/samuel80402/sam/blob/master/picture/bfs/380866.jpg?raw=true)"
   ]
  },
  {
   "cell_type": "markdown",
   "metadata": {},
   "source": [
    "## BFS\n",
    "    首先是BFS(廣度優先搜尋)，其走訪方式是以指定的起點開始，將起點、起點的鄰點、鄰點的鄰點依照順序區分等級，並優先走訪最接近起點等級的節點，以此類推直到所有等級的節點都被走訪過。BFS中會使用到queue來進行鄰點的操作，利用queue先進先出的機制在走訪時才能以靠近起始點等級的節點作優先走訪的動作。\n",
    "![bfs](https://github.com/samuel80402/sam/blob/master/picture/bfs/380864.jpg?raw=true)"
   ]
  },
  {
   "cell_type": "markdown",
   "metadata": {},
   "source": [
    "### 測試資料\n",
    "    在開始本次的作業之前，我就先以助教的測資為範例，去測試輸入的資料的各種屬性，方便我了解程式碼要如何撰寫。"
   ]
  },
  {
   "cell_type": "code",
   "execution_count": 2,
   "metadata": {},
   "outputs": [
    {
     "name": "stdout",
     "output_type": "stream",
     "text": [
      "defaultdict(<class 'list'>, {0: [1, 2], 1: [2], 2: [0, 3], 3: [3]}) 4 0\n",
      "defaultdict(<class 'list'>, {0: [1, 2], 1: [2], 2: [0, 3], 3: [3]}) 4 1\n",
      "defaultdict(<class 'list'>, {0: [1, 2], 1: [2], 2: [0, 3], 3: [3]}) 4 2\n",
      "defaultdict(<class 'list'>, {0: [1, 2], 1: [2], 2: [0, 3], 3: [3]}) 4 3\n"
     ]
    }
   ],
   "source": [
    "#測試測資長怎樣\n",
    "g=Graph()\n",
    "g.addEdge(0,1)\n",
    "g.addEdge(0,2)\n",
    "g.addEdge(1,2)\n",
    "g.addEdge(2,0)\n",
    "g.addEdge(2,3)\n",
    "g.addEdge(3,3)\n",
    "for i in g.graph:\n",
    "    print(g.graph,len(g.graph),i)\n",
    "    "
   ]
  },
  {
   "cell_type": "markdown",
   "metadata": {},
   "source": [
    "    根據上面的測試我了解到圖的鄰邊表的格式，鄰邊表判斷長度的依據，以及以鄰邊表執行迴圈時資料的變化是如何，所以我就開始寫程式了。"
   ]
  },
  {
   "cell_type": "markdown",
   "metadata": {},
   "source": [
    "### 版本一\n",
    "    版本一算是失敗的版本，由於版本一是依照for迴圈去跑，所以雖然有判斷輸入的值不能是node裡面的以及queue裡面，但並不是照著bfs的邏輯去執行程式，因此後來就繼續修改。"
   ]
  },
  {
   "cell_type": "code",
   "execution_count": 6,
   "metadata": {},
   "outputs": [
    {
     "name": "stdout",
     "output_type": "stream",
     "text": [
      "[0, 3, 1]\n",
      "[0, 3, 1, 2]\n",
      "[3, 1, 2]\n",
      "[1, 2]\n",
      "[1, 2, 3]\n",
      "[2, 3]\n"
     ]
    },
    {
     "data": {
      "text/plain": [
       "[2, 0, 3, 1]"
      ]
     },
     "execution_count": 6,
     "metadata": {},
     "output_type": "execute_result"
    }
   ],
   "source": [
    "#版本一\n",
    "from collections import defaultdict   \n",
    "\n",
    "class Graph:\n",
    "    def __init__(self): \n",
    "        self.graph = defaultdict(list) \n",
    "\n",
    "    def addEdge(self,u,v): \n",
    "        self.graph[u].append(v) \n",
    "  \n",
    "    def BFS(self, s): \n",
    "        node = [s]#一開始就把起始點放入這個list\n",
    "        queue = self.graph[s]#一開始就把起始點的鄰點放入這個list\n",
    "        for i in self.graph:#開始執行迴圈，由於是錯誤版本因此不多加說明。\n",
    "            if i != s:\n",
    "                for j in self.graph[i]:\n",
    "                    if j not in queue:\n",
    "                        queue.append(j)\n",
    "                        print(queue)\n",
    "                node.append(queue.pop(0))\n",
    "                print(queue)\n",
    "        return node\n",
    "       \n",
    "g=Graph()\n",
    "g.addEdge(0,1)\n",
    "g.addEdge(0,2)\n",
    "g.addEdge(1,2)\n",
    "g.addEdge(2,0)\n",
    "g.addEdge(2,3)\n",
    "g.addEdge(3,3)\n",
    "g.BFS(2)#雖然可以走訪，但queue不符合邏輯上該長的樣子"
   ]
  },
  {
   "cell_type": "markdown",
   "metadata": {},
   "source": [
    "### 成功版本\n",
    "    後來我再依照課堂上的方式，實際手寫一個個走訪該有的順序，queue的變化等等，因此決定用while來完成我的BFS。以下附上我的程式碼以及說明。"
   ]
  },
  {
   "cell_type": "code",
   "execution_count": 7,
   "metadata": {},
   "outputs": [],
   "source": [
    "#bfs成功版本\n",
    "class Graph:\n",
    "    def __init__(self): \n",
    "        self.graph = defaultdict(list) \n",
    "\n",
    "    def addEdge(self,u,v): \n",
    "        self.graph[u].append(v) \n",
    "  \n",
    "    def BFS(self, s): \n",
    "        node = [s]\n",
    "        queue = [] + self.graph[s] #之前沒注意到直接把queue指定self.graph[s]會在下面append時改變了鄰邊表，所以改成這樣\n",
    "        i=0\n",
    "        while len(node)!=len(self.graph):#當node長度等於graph長度時，就表示所有節點已經走訪完了，故設此條件\n",
    "            node.append(queue[i])#依照先進先出的方式，把level1的節點放入走訪過的list\n",
    "            i+=1#i+1表示我接下來會把最新走訪的節點的鄰點放入queue\n",
    "            for j in self.graph[node[i]]:\n",
    "                if j not in queue and j not in node:\n",
    "                    queue.append(j)#依照對應的鄰邊表，判斷鄰點有沒有放入現有的queue，沒有才加進去\n",
    "            print(queue,node)#純粹看看node跟queue長怎樣\n",
    "        return node"
   ]
  },
  {
   "cell_type": "code",
   "execution_count": 8,
   "metadata": {},
   "outputs": [
    {
     "name": "stdout",
     "output_type": "stream",
     "text": [
      "[0, 3, 1] [2, 0]\n",
      "[0, 3, 1] [2, 0, 3]\n",
      "[0, 3, 1] [2, 0, 3, 1]\n"
     ]
    },
    {
     "data": {
      "text/plain": [
       "[2, 0, 3, 1]"
      ]
     },
     "execution_count": 8,
     "metadata": {},
     "output_type": "execute_result"
    }
   ],
   "source": [
    "g=Graph()\n",
    "g.addEdge(0,1)\n",
    "g.addEdge(0,2)\n",
    "g.addEdge(1,2)\n",
    "g.addEdge(2,0)\n",
    "g.addEdge(2,3)\n",
    "g.addEdge(3,3)\n",
    "g.BFS(2)"
   ]
  },
  {
   "cell_type": "markdown",
   "metadata": {},
   "source": [
    "## DFS\n",
    "    DFS(深度優先搜尋)和BFS不同，其原理是，依照起始點開始走訪，找到下個節點就繼續走下去，每次都以走到的節點當作新的起點，直到走到底還沒走完，就回到前面的節點去走其他鄰點，最後把所有節點走完。由於回去前面節點的動作就像電腦的回到上一頁，因此DFS需要用到stack的先進後出的機制，來回到上個節點。\n",
    "![dfs](https://github.com/samuel80402/sam/blob/master/picture/bfs/380865.jpg?raw=true)"
   ]
  },
  {
   "cell_type": "markdown",
   "metadata": {},
   "source": [
    "### 版本一\n",
    "    這個版本是失敗的版本，我一開始的想法就是既然兩者只差在先進先出跟先進後出，因此我只要把BFS的一些參數改一改就好了，結果就遇到未知的錯誤了嗚嗚嗚。"
   ]
  },
  {
   "cell_type": "code",
   "execution_count": 13,
   "metadata": {},
   "outputs": [
    {
     "name": "stdout",
     "output_type": "stream",
     "text": [
      "[0, 3] [2, 3]\n",
      "[0, 3] [2, 3, 0]\n"
     ]
    },
    {
     "ename": "IndexError",
     "evalue": "list index out of range",
     "output_type": "error",
     "traceback": [
      "\u001b[1;31m---------------------------------------------------------------------------\u001b[0m",
      "\u001b[1;31mIndexError\u001b[0m                                Traceback (most recent call last)",
      "\u001b[1;32m<ipython-input-13-24e39b87e5a9>\u001b[0m in \u001b[0;36m<module>\u001b[1;34m\u001b[0m\n\u001b[0;32m     28\u001b[0m \u001b[0mg\u001b[0m\u001b[1;33m.\u001b[0m\u001b[0maddEdge\u001b[0m\u001b[1;33m(\u001b[0m\u001b[1;36m2\u001b[0m\u001b[1;33m,\u001b[0m\u001b[1;36m3\u001b[0m\u001b[1;33m)\u001b[0m\u001b[1;33m\u001b[0m\u001b[1;33m\u001b[0m\u001b[0m\n\u001b[0;32m     29\u001b[0m \u001b[0mg\u001b[0m\u001b[1;33m.\u001b[0m\u001b[0maddEdge\u001b[0m\u001b[1;33m(\u001b[0m\u001b[1;36m3\u001b[0m\u001b[1;33m,\u001b[0m\u001b[1;36m3\u001b[0m\u001b[1;33m)\u001b[0m\u001b[1;33m\u001b[0m\u001b[1;33m\u001b[0m\u001b[0m\n\u001b[1;32m---> 30\u001b[1;33m \u001b[0mg\u001b[0m\u001b[1;33m.\u001b[0m\u001b[0mDFS\u001b[0m\u001b[1;33m(\u001b[0m\u001b[1;36m2\u001b[0m\u001b[1;33m)\u001b[0m\u001b[1;33m\u001b[0m\u001b[1;33m\u001b[0m\u001b[0m\n\u001b[0m",
      "\u001b[1;32m<ipython-input-13-24e39b87e5a9>\u001b[0m in \u001b[0;36mDFS\u001b[1;34m(self, s)\u001b[0m\n\u001b[0;32m     13\u001b[0m         \u001b[0mi\u001b[0m\u001b[1;33m=\u001b[0m\u001b[1;33m-\u001b[0m\u001b[1;36m1\u001b[0m\u001b[1;33m\u001b[0m\u001b[1;33m\u001b[0m\u001b[0m\n\u001b[0;32m     14\u001b[0m         \u001b[1;32mwhile\u001b[0m \u001b[0mlen\u001b[0m\u001b[1;33m(\u001b[0m\u001b[0mnode\u001b[0m\u001b[1;33m)\u001b[0m\u001b[1;33m!=\u001b[0m\u001b[0mlen\u001b[0m\u001b[1;33m(\u001b[0m\u001b[0mself\u001b[0m\u001b[1;33m.\u001b[0m\u001b[0mgraph\u001b[0m\u001b[1;33m)\u001b[0m\u001b[1;33m:\u001b[0m\u001b[1;31m#由於幾乎把BFS照搬，因此就不多做說明\u001b[0m\u001b[1;33m\u001b[0m\u001b[1;33m\u001b[0m\u001b[0m\n\u001b[1;32m---> 15\u001b[1;33m             \u001b[0mnode\u001b[0m\u001b[1;33m.\u001b[0m\u001b[0mappend\u001b[0m\u001b[1;33m(\u001b[0m\u001b[0mstack\u001b[0m\u001b[1;33m[\u001b[0m\u001b[0mi\u001b[0m\u001b[1;33m]\u001b[0m\u001b[1;33m)\u001b[0m\u001b[1;33m\u001b[0m\u001b[1;33m\u001b[0m\u001b[0m\n\u001b[0m\u001b[0;32m     16\u001b[0m             \u001b[0mi\u001b[0m\u001b[1;33m-=\u001b[0m\u001b[1;36m1\u001b[0m\u001b[1;33m\u001b[0m\u001b[1;33m\u001b[0m\u001b[0m\n\u001b[0;32m     17\u001b[0m             \u001b[1;32mfor\u001b[0m \u001b[0mj\u001b[0m \u001b[1;32min\u001b[0m \u001b[0mself\u001b[0m\u001b[1;33m.\u001b[0m\u001b[0mgraph\u001b[0m\u001b[1;33m[\u001b[0m\u001b[0mnode\u001b[0m\u001b[1;33m[\u001b[0m\u001b[0mi\u001b[0m\u001b[1;33m]\u001b[0m\u001b[1;33m]\u001b[0m\u001b[1;33m:\u001b[0m\u001b[1;33m\u001b[0m\u001b[1;33m\u001b[0m\u001b[0m\n",
      "\u001b[1;31mIndexError\u001b[0m: list index out of range"
     ]
    }
   ],
   "source": [
    "#dfs失敗一\n",
    "class Graph:\n",
    "    def __init__(self): \n",
    "        self.graph = defaultdict(list) \n",
    "\n",
    "    def addEdge(self,u,v): \n",
    "        self.graph[u].append(v) \n",
    "  \n",
    "\n",
    "    def DFS(self, s):\n",
    "        node = [s]\n",
    "        stack = [] + self.graph[s]\n",
    "        i=-1\n",
    "        while len(node)!=len(self.graph):#由於幾乎把BFS照搬，因此就不多做說明\n",
    "            node.append(stack[i])\n",
    "            i-=1\n",
    "            for j in self.graph[node[i]]:\n",
    "                if j not in stack and j not in node:\n",
    "                    stack.append(j)\n",
    "            print(stack,node)\n",
    "        return node\n",
    "\n",
    "g=Graph()\n",
    "g.addEdge(0,1)\n",
    "g.addEdge(0,2)\n",
    "g.addEdge(1,2)\n",
    "g.addEdge(2,0)\n",
    "g.addEdge(2,3)\n",
    "g.addEdge(3,3)\n",
    "g.DFS(2)"
   ]
  },
  {
   "cell_type": "markdown",
   "metadata": {},
   "source": [
    "### 成功版本\n",
    "    後來我又手寫了一次DFS走訪狀態，了解之後才重新寫一次這個成功的版本。以下附上程式碼與說明。"
   ]
  },
  {
   "cell_type": "code",
   "execution_count": 14,
   "metadata": {},
   "outputs": [],
   "source": [
    "#dfs\n",
    "class Graph:\n",
    "    def __init__(self): \n",
    "        self.graph = defaultdict(list) \n",
    "\n",
    "    def addEdge(self,u,v): \n",
    "        self.graph[u].append(v) \n",
    "  \n",
    "\n",
    "    def DFS(self, s):\n",
    "        node = [s]\n",
    "        stack = [] + self.graph[s]\n",
    "        while len(node) != len(self.graph):#和BFS一樣的概念\n",
    "            node.append(stack.pop(-1))#這邊因為要用到pop，由於stack是先進後出，因此我把最後的鄰點丟到走訪過的list\n",
    "            for i in self.graph[node[-1]]:\n",
    "                if i not in stack and i not in node:\n",
    "                    stack.append(i)#這邊的概念就跟BFS一樣，因此只是換個方式寫\n",
    "            print(stack,node)\n",
    "        return node\n",
    "        "
   ]
  },
  {
   "cell_type": "code",
   "execution_count": 15,
   "metadata": {},
   "outputs": [
    {
     "name": "stdout",
     "output_type": "stream",
     "text": [
      "[0] [2, 3]\n",
      "[1] [2, 3, 0]\n",
      "[] [2, 3, 0, 1]\n"
     ]
    },
    {
     "data": {
      "text/plain": [
       "[2, 3, 0, 1]"
      ]
     },
     "execution_count": 15,
     "metadata": {},
     "output_type": "execute_result"
    }
   ],
   "source": [
    "g=Graph()\n",
    "g.addEdge(0,1)\n",
    "g.addEdge(0,2)\n",
    "g.addEdge(1,2)\n",
    "g.addEdge(2,0)\n",
    "g.addEdge(2,3)\n",
    "g.addEdge(3,3)\n",
    "g.DFS(2)"
   ]
  },
  {
   "cell_type": "markdown",
   "metadata": {},
   "source": [
    "## 比較說明\n",
    "    兩種演算法的最大差別就是先進先出以及先進後出的部分。\n",
    "### BFS\n",
    "    BFS因為要根據level的順序去走訪，所以在走訪時就是以最靠近起點的節點為優先，也就要使用到先進先出的概念。\n",
    "### DFS\n",
    "    DFS並不是把同個level的節點走訪完才去走下個level，而是當我走到一個節點時，就繼續往它的下個節點走。由於這種方式會讓當走到最遠的level時，前面的level並沒有完全走完，所以需要回到上一個節點走，而這種回上一步的方式就要用到先進後出的stack概念。\n"
   ]
  },
  {
   "cell_type": "code",
   "execution_count": 17,
   "metadata": {},
   "outputs": [],
   "source": [
    "from collections import defaultdict   \n",
    "\n",
    "class Graph:\n",
    "    def __init__(self): \n",
    "        self.graph = defaultdict(list) \n",
    "\n",
    "    def addEdge(self,u,v): \n",
    "        self.graph[u].append(v) \n",
    "  \n",
    "    def BFS(self, s): \n",
    "        node = [s]\n",
    "        queue = [] + self.graph[s]\n",
    "        i=0\n",
    "        while len(node) != len(self.graph):\n",
    "            node.append(queue[i])#從頭開始先進先出，因此i要從0開始\n",
    "            i+=1\n",
    "            for j in self.graph[node[i]]:\n",
    "                if j not in queue and j not in node:\n",
    "                    queue.append(j)\n",
    "        return node\n",
    "    def DFS(self, s):\n",
    "        node = [s]\n",
    "        stack = [] + self.graph[s]\n",
    "        while len(node) != len(self.graph):\n",
    "            node.append(stack.pop(-1))#先進後出，因此要先把最後一個取出\n",
    "            for i in self.graph[node[-1]]:\n",
    "                if i not in stack and i not in node:\n",
    "                    stack.append(i)\n",
    "        return node"
   ]
  },
  {
   "cell_type": "markdown",
   "metadata": {},
   "source": [
    "## 參考資料\n",
    "[BFS](https://alrightchiu.github.io/SecondRound/graph-breadth-first-searchbfsguang-du-you-xian-sou-xun.html)<br>\n",
    "[DFS](https://alrightchiu.github.io/SecondRound/graph-depth-first-searchdfsshen-du-you-xian-sou-xun.html)<br>\n",
    "[not in](https://blog.csdn.net/DeniuHe/article/details/77985505)"
   ]
  }
 ],
 "metadata": {
  "kernelspec": {
   "display_name": "Python 3",
   "language": "python",
   "name": "python3"
  },
  "language_info": {
   "codemirror_mode": {
    "name": "ipython",
    "version": 3
   },
   "file_extension": ".py",
   "mimetype": "text/x-python",
   "name": "python",
   "nbconvert_exporter": "python",
   "pygments_lexer": "ipython3",
   "version": "3.7.1"
  }
 },
 "nbformat": 4,
 "nbformat_minor": 2
}
