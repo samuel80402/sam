{
 "cells": [
  {
   "cell_type": "markdown",
   "metadata": {},
   "source": [
    "# 各功能說明"
   ]
  },
  {
   "cell_type": "markdown",
   "metadata": {},
   "source": [
    "## 新增Insert\n",
    "    這個新增的function我是參考影片中的做法，再修改成我要的樣式，為了在其他功能中使用，我就進行了一些調整。整體概念是，當我有一個root，而這個root有值的時候，我就先看我要新增的值有沒有比root值大，有就要放右邊，沒有則放左邊，但在放之前還得看root有沒有左邊右邊小孩，如果有的話，就必須要在他的小孩後面新增。"
   ]
  },
  {
   "cell_type": "code",
   "execution_count": 2,
   "metadata": {},
   "outputs": [],
   "source": [
    "    def insert(self, root, val):#參考影片的概念並修改成全包在一個class的版本\n",
    "        \"\"\"\n",
    "        :type root: TreeNode\n",
    "        :type val: int\n",
    "        :rtype: TreeNode(inserted node)\n",
    "        \"\"\"\n",
    "        if val:#此處是為了刪除而新增的條件，為了不讓程式出錯我才加這行\n",
    "            if root.val:\n",
    "                if root.val >= val:\n",
    "                    if root.left:\n",
    "                        return Solution().insert(root.left, val)\n",
    "                    else:\n",
    "                        root.left = TreeNode(val)\n",
    "                        return root.left\n",
    "                \n",
    "                else:\n",
    "                    if root.right:\n",
    "                        return Solution().insert(root.right, val)\n",
    "                    else:\n",
    "                        root.right = TreeNode(val)\n",
    "                        return root.right\n",
    "                    \n",
    "            else:\n",
    "                root.val = val#這也算是為了之後的其他function而定義的\n",
    "                return root"
   ]
  },
  {
   "cell_type": "markdown",
   "metadata": {},
   "source": [
    "## 查詢Search\n",
    "    查詢的部分其實也不難，但我也是參考老師給的影片寫出來的，跟刪除以及修改不同，查詢只要找到最靠近root的目標就可以結束了，不用考慮到目標可能重複的問題。概念就是，如果root值等於目標值，就回傳root，否則就看目標值是大於還是小於root值，小於就看左邊節點，大於就看右邊節點。\n",
    "    "
   ]
  },
  {
   "cell_type": "code",
   "execution_count": 4,
   "metadata": {},
   "outputs": [],
   "source": [
    "    def search(self, root, target):#參考影片並修改成全部包在一個class的版本\n",
    "        \"\"\"\n",
    "        :type root: TreeNode\n",
    "        :type target: int\n",
    "        :rtype: TreeNode(searched node)\n",
    "        \"\"\"\n",
    "        if root.val == target:\n",
    "            return root\n",
    "        else:\n",
    "            if root.val == None:#此處是配合刪除所做的設計，以免程式error\n",
    "                if root.left:\n",
    "                    return Solution().search(root.left, target)\n",
    "                elif root.right:\n",
    "                    return Solution().search(root.right, target)\n",
    "            elif root.val > target and root.left:\n",
    "                return Solution().search(root.left, target)\n",
    "            elif root.val < target and root.right:\n",
    "                return Solution().search(root.right, target)\n",
    "            else:\n",
    "                return None"
   ]
  },
  {
   "cell_type": "markdown",
   "metadata": {},
   "source": [
    "## 重建Rebuild\n",
    "    這個是我自己定義的function，其目的是為了我不知道該怎麼把原本的bst重新指向成為正確的結構，於是就取了個巧，乾脆直接建構一顆新的樹。使用的邏輯則是用preorder的走訪方式，一個一個把值新增到新的樹裡面。這邊也是參考影片的走訪方式。\n",
    "    "
   ]
  },
  {
   "cell_type": "code",
   "execution_count": 6,
   "metadata": {},
   "outputs": [],
   "source": [
    "    def rebuild(self, root, new_root):#參考影片中preorder的程式碼，並修改成這個版本\n",
    "        if root:\n",
    "            Solution().insert(new_root, root.val)\n",
    "            if root.left:\n",
    "                Solution().rebuild(root.left, new_root)\n",
    "            if root.right:\n",
    "                Solution().rebuild(root.right, new_root)"
   ]
  },
  {
   "cell_type": "markdown",
   "metadata": {},
   "source": [
    "## 刪除Delete\n",
    "    我的刪除查詢跟修改都使用差不多的概念，其實我是先寫出Search才寫這個的。總之就是有一個目標值，我要判斷這個目標值是否等於我當前所看到的節點的值，如果是的話，我就把該值變成None，然後繼續執行程式直到所有目標值都變成None，這時再呼叫search去判斷我有沒有把所有目標值刪掉，有的話就使用rebuild重新建構出一顆新的符合規則的樹。"
   ]
  },
  {
   "cell_type": "code",
   "execution_count": 3,
   "metadata": {},
   "outputs": [],
   "source": [
    "    def delete(self, root, target):#根據search的概念去做調整\n",
    "        \"\"\"\n",
    "        :type root: TreeNode\n",
    "        :type target: int\n",
    "        :rtype: TreeNode(the root of new completed binary search tree) (cannot search())\n",
    "        \"\"\"\n",
    "        if root.val == target:\n",
    "            root.val = None\n",
    "            if root.left:\n",
    "                Solution().delete(root.left, target)\n",
    "        elif root.val > target:\n",
    "            if root.left:\n",
    "                Solution().delete(root.left, target)\n",
    "        else:\n",
    "            if root.right:\n",
    "                Solution().delete(root.right, target)\n",
    "        \n",
    "        if Solution().search(root, target) == None:\n",
    "            new_root = TreeNode(None)\n",
    "            Solution().rebuild(root, new_root)\n",
    "            root = new_root\n",
    "            return root"
   ]
  },
  {
   "cell_type": "markdown",
   "metadata": {},
   "source": [
    "## 修改Modify\n",
    "    修改跟刪除基本是一樣的，只是一個是把值刪除，一個是把值改成新的。"
   ]
  },
  {
   "cell_type": "code",
   "execution_count": 5,
   "metadata": {},
   "outputs": [],
   "source": [
    "    def modify(self, root, target, new_val):#根據search的概念去做修正\n",
    "        \"\"\"\n",
    "        :type root: TreeNode\n",
    "        :type target: int\n",
    "        :type new_val: int\n",
    "        :rtype:TreeNode(the root of new completed binary search tree) (cannot search())\n",
    "        \"\"\"\n",
    "        if root.val == target:\n",
    "            root.val = new_val#只有這裡跟刪除不同，其他都一樣\n",
    "            if root.left:\n",
    "                Solution().modify(root.left, target, new_val)\n",
    "        elif root.val > target:\n",
    "            if root.left:\n",
    "                Solution().modify(root.left, target, new_val)\n",
    "        else:\n",
    "            if root.right:\n",
    "                Solution().modify(root.right, target, new_val)\n",
    "                \n",
    "        if Solution().search(root, target) == None:\n",
    "            new_root = TreeNode(None)\n",
    "            Solution().rebuild(root, new_root)\n",
    "            root = new_root\n",
    "            return root"
   ]
  },
  {
   "cell_type": "markdown",
   "metadata": {},
   "source": [
    "## 參考資料\n",
    "[BST in Python 影片](https://www.youtube.com/watch?v=YlgPi75hIBc&feature=youtu.be)"
   ]
  }
 ],
 "metadata": {
  "kernelspec": {
   "display_name": "Python 3",
   "language": "python",
   "name": "python3"
  },
  "language_info": {
   "codemirror_mode": {
    "name": "ipython",
    "version": 3
   },
   "file_extension": ".py",
   "mimetype": "text/x-python",
   "name": "python",
   "nbconvert_exporter": "python",
   "pygments_lexer": "ipython3",
   "version": "3.7.1"
  }
 },
 "nbformat": 4,
 "nbformat_minor": 2
}
