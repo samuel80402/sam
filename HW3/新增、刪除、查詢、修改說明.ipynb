{
 "cells": [
  {
   "cell_type": "markdown",
   "metadata": {},
   "source": [
    "# 各功能說明"
   ]
  },
  {
   "cell_type": "markdown",
   "metadata": {},
   "source": [
    "## 新增Insert\n",
    "    這個新增的function我是參考影片中的做法，再修改成我要的樣式，為了在其他功能中使用，我就進行了一些調整。整體概念是，當我有一個root，而這個root有值的時候，我就先看我要新增的值有沒有比root值大，有就要放右邊，沒有則放左邊，但在放之前還得看root有沒有左邊右邊小孩，如果有的話，就必須要在他的小孩後面新增。"
   ]
  },
  {
   "cell_type": "code",
   "execution_count": 2,
   "metadata": {},
   "outputs": [],
   "source": [
    "    def insert(self, root, val):#參考影片的概念並修改成全包在一個class的版本\n",
    "        \"\"\"\n",
    "        :type root: TreeNode\n",
    "        :type val: int\n",
    "        :rtype: TreeNode(inserted node)\n",
    "        \"\"\"\n",
    "        if val:#此處是為了刪除而新增的條件，為了不讓程式出錯我才加這行\n",
    "            if root.val:\n",
    "                if root.val >= val:\n",
    "                    if root.left:\n",
    "                        return Solution().insert(root.left, val)\n",
    "                    else:\n",
    "                        root.left = TreeNode(val)\n",
    "                        return root.left\n",
    "                \n",
    "                else:\n",
    "                    if root.right:\n",
    "                        return Solution().insert(root.right, val)\n",
    "                    else:\n",
    "                        root.right = TreeNode(val)\n",
    "                        return root.right\n",
    "                    \n",
    "            else:\n",
    "                root.val = val#這也算是為了之後的其他function而定義的\n",
    "                return root"
   ]
  },
  {
   "cell_type": "markdown",
   "metadata": {},
   "source": [
    "## 刪除Delete\n",
    "    我的刪除查詢跟修改都使用差不多的概念，其實我是先寫出Search才寫這個的。總之就是有一個目標值，我要判斷這個目標值是否等於我當前所看到的節點的值，如果是的話，我就把該值變成None，然後繼續執行程式直到所有目標值都變成None，這時再呼叫search去判斷我有沒有把所有目標值刪掉，有的話就"
   ]
  },
  {
   "cell_type": "code",
   "execution_count": null,
   "metadata": {},
   "outputs": [],
   "source": [
    "    def delete(self, root, target):#根據search的概念去做調整\n",
    "        \"\"\"\n",
    "        :type root: TreeNode\n",
    "        :type target: int\n",
    "        :rtype: TreeNode(the root of new completed binary search tree) (cannot search())\n",
    "        \"\"\"\n",
    "        if root.val == target:\n",
    "            root.val = None\n",
    "            if root.left:\n",
    "                Solution().delete(root.left, target)\n",
    "        elif root.val > target:\n",
    "            if root.left:\n",
    "                Solution().delete(root.left, target)\n",
    "        else:\n",
    "            if root.right:\n",
    "                Solution().delete(root.right, target)\n",
    "        \n",
    "        if Solution().search(root, target) == None:\n",
    "            new_root = TreeNode(None)\n",
    "            Solution().rebuild(root, new_root)\n",
    "            root = new_root\n",
    "            return root"
   ]
  }
 ],
 "metadata": {
  "kernelspec": {
   "display_name": "Python 3",
   "language": "python",
   "name": "python3"
  },
  "language_info": {
   "codemirror_mode": {
    "name": "ipython",
    "version": 3
   },
   "file_extension": ".py",
   "mimetype": "text/x-python",
   "name": "python",
   "nbconvert_exporter": "python",
   "pygments_lexer": "ipython3",
   "version": "3.7.1"
  }
 },
 "nbformat": 4,
 "nbformat_minor": 2
}
