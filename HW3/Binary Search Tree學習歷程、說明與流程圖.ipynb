{
 "cells": [
  {
   "cell_type": "markdown",
   "metadata": {},
   "source": [
    "# Binary Search Tree\n"
   ]
  },
  {
   "cell_type": "markdown",
   "metadata": {},
   "source": [
    "這次的作業是Binary Search Tree(以下簡稱bst)，是一種以樹的方式儲存資料的資料結構。基本架構是會有一個根(root)節點以及根所指定的左邊(left)及右邊(right)節點，依照此架構再往下延伸。除了基本架構之外，bst有一個規則，left必須小於或是等於root，right必須大於root(以本次作業為例，實際上要不要等於也放left是看個人)。依此方式進行就可以很方便地去找出想要的資料。\n",
    "![bst](https://github.com/samuel80402/sam/blob/master/week7/BST01.jpg?raw=true)"
   ]
  },
  {
   "cell_type": "markdown",
   "metadata": {},
   "source": [
    "由於我一開始還不太清楚bst的概念，於是就看了老師提供的bst影片，看了幾次才明白他在做甚麼。\n",
    "[bst in python](https://www.youtube.com/watch?v=YlgPi75hIBc&feature=youtu.be)"
   ]
  },
  {
   "cell_type": "markdown",
   "metadata": {},
   "source": [
    "## 實作\n",
    "    看了老師給的影片，我決定參考它的作法，開始從最簡單的insert寫起"
   ]
  },
  {
   "cell_type": "markdown",
   "metadata": {},
   "source": [
    "### Insert\n",
    "    insert最簡單，我就參考了影片的作法，因為助教有規定格式，而且我也不想照抄影片，所以就把它改成全部包在Solution這個class裡面。"
   ]
  },
  {
   "cell_type": "code",
   "execution_count": 2,
   "metadata": {},
   "outputs": [],
   "source": [
    "class TreeNode(object):\n",
    "    def __init__(self,x):\n",
    "        self.val = x\n",
    "        self.left = None #這邊是助教提供的格式\n",
    "        self.right = None\n",
    "        \"\"\"\n",
    "        :type val: int\n",
    "        :type left: TreeNode or None\n",
    "        :type right: TreeNode or None\n",
    "        \"\"\"\n",
    "class Solution(object):\n",
    "    def insert(self, root, val):#參考影片的概念並修改成全包在一個class的版本\n",
    "        \"\"\"\n",
    "        :type root: TreeNode\n",
    "        :type val: int\n",
    "        :rtype: TreeNode(inserted node)\n",
    "        \"\"\"\n",
    "        if root.val:\n",
    "            if root.val >= val:\n",
    "                if root.left:\n",
    "                    return Solution().insert(root.left, val)\n",
    "                else:\n",
    "                    root.left = TreeNode(val)\n",
    "                    return root.left\n",
    "                \n",
    "            else:\n",
    "                if root.right:\n",
    "                    return Solution().insert(root.right, val)\n",
    "                else:\n",
    "                    root.right = TreeNode(val)\n",
    "                    return root.right\n",
    "                    \n",
    "        else:\n",
    "            root.val = val\n",
    "            return root"
   ]
  },
  {
   "cell_type": "markdown",
   "metadata": {},
   "source": [
    "### Search\n",
    "    想出insert之後我就想說來弄search，因為把search定義好就可以做之後的修改跟刪除了。這邊也是參考影片的find做法，並且改成包在Solution裡面的版本。"
   ]
  },
  {
   "cell_type": "code",
   "execution_count": 3,
   "metadata": {},
   "outputs": [],
   "source": [
    "    def search(self, root, target):#參考影片並修改成全部包在一個class的版本\n",
    "        \"\"\"\n",
    "        :type root: TreeNode\n",
    "        :type target: int\n",
    "        :rtype: TreeNode(searched node)\n",
    "        \"\"\"\n",
    "        if root.val == target:\n",
    "            return root\n",
    "        else:\n",
    "            if root.val == None:\n",
    "                if root.left:\n",
    "                    return Solution().search(root.left, target)\n",
    "                elif root.right:\n",
    "                    return Solution().search(root.right, target)\n",
    "            elif root.val > target and root.left:\n",
    "                return Solution().search(root.left, target)\n",
    "            elif root.val < target and root.right:\n",
    "                return Solution().search(root.right, target)\n",
    "            else:\n",
    "                return None"
   ]
  },
  {
   "cell_type": "markdown",
   "metadata": {},
   "source": [
    "### Modify\n",
    "    我想說search寫出來了，接下來的修改跟刪除基本架構是一樣的，所以我就先來寫修改。但一開始我還沒想到怎麼重新架構好一個bst，只想到怎麼取代而已。"
   ]
  },
  {
   "cell_type": "code",
   "execution_count": 4,
   "metadata": {},
   "outputs": [],
   "source": [
    "    def modify(self, root, target, new_val):#根據search的概念去做修正\n",
    "        \"\"\"\n",
    "        :type root: TreeNode\n",
    "        :type target: int\n",
    "        :type new_val: int\n",
    "        :rtype:TreeNode(the root of new completed binary search tree) (cannot search())\n",
    "        \"\"\"\n",
    "        if root.val == target:\n",
    "            root.val = new_val\n",
    "            if root.left:\n",
    "                Solution().modify(root.left, target, new_val)\n",
    "        elif root.val > target:\n",
    "            if root.left:\n",
    "                Solution().modify(root.left, target, new_val)\n",
    "        else:\n",
    "            if root.right:\n",
    "                Solution().modify(root.right, target, new_val)"
   ]
  },
  {
   "cell_type": "markdown",
   "metadata": {},
   "source": [
    "### Delete\n",
    "    modify寫完我就寫刪除，而且從這邊開始我也在想該怎麼重新建構出一棵樹，所以卡了比較久，最後先寫出這樣。"
   ]
  },
  {
   "cell_type": "code",
   "execution_count": 5,
   "metadata": {},
   "outputs": [],
   "source": [
    "    def delete(self, root, target):#根據search的概念去做調整\n",
    "        \"\"\"\n",
    "        :type root: TreeNode\n",
    "        :type target: int\n",
    "        :rtype: TreeNode(the root of new completed binary search tree) (cannot search())\n",
    "        \"\"\"\n",
    "        if root.val == target:\n",
    "            root.val = None\n",
    "            if root.left:\n",
    "                Solution().delete(root.left, target)\n",
    "        elif root.val > target:\n",
    "            if root.left:\n",
    "                Solution().delete(root.left, target)\n",
    "        else:\n",
    "            if root.right:\n",
    "                Solution().delete(root.right, target)"
   ]
  },
  {
   "cell_type": "markdown",
   "metadata": {},
   "source": [
    "### Rebuild\n",
    "    全部寫完之後我開始想怎麼重新建構樹，我想半天，最後決定用走訪的方式，把修改以及刪除後的不合法bst，用insert去把它建構出一顆新的樹。這邊就有參考影片中走訪(preorder)的程式碼。為此我還修改過我的insert。"
   ]
  },
  {
   "cell_type": "code",
   "execution_count": 6,
   "metadata": {},
   "outputs": [],
   "source": [
    "    def rebuild(self, root, new_root):#參考影片中preorder的程式碼，並修改成這個版本\n",
    "        if root:\n",
    "            Solution().insert(new_root, root.val)\n",
    "            if root.left:\n",
    "                Solution().rebuild(root.left, new_root)\n",
    "            if root.right:\n",
    "                Solution().rebuild(root.right, new_root)"
   ]
  },
  {
   "cell_type": "markdown",
   "metadata": {},
   "source": [
    "## 完成!\n",
    "    最後終於完成了!感動!"
   ]
  },
  {
   "cell_type": "code",
   "execution_count": 7,
   "metadata": {},
   "outputs": [],
   "source": [
    "# Definition for a binary tree node.\n",
    "#參考資料:https://www.youtube.com/watch?v=YlgPi75hIBc&feature=youtu.be影片裡面的概念以及之前程式碼學習的累積\n",
    "class TreeNode(object):\n",
    "    def __init__(self,x):\n",
    "        self.val = x\n",
    "        self.left = None\n",
    "        self.right = None\n",
    "        \"\"\"\n",
    "        :type val: int\n",
    "        :type left: TreeNode or None\n",
    "        :type right: TreeNode or None\n",
    "        \"\"\"\n",
    "class Solution(object):\n",
    "    def insert(self, root, val):#參考影片的概念並修改成全包在一個class的版本\n",
    "        \"\"\"\n",
    "        :type root: TreeNode\n",
    "        :type val: int\n",
    "        :rtype: TreeNode(inserted node)\n",
    "        \"\"\"\n",
    "        if val:\n",
    "            if root.val:\n",
    "                if root.val >= val:\n",
    "                    if root.left:\n",
    "                        return Solution().insert(root.left, val)\n",
    "                    else:\n",
    "                        root.left = TreeNode(val)\n",
    "                        return root.left\n",
    "                \n",
    "                else:\n",
    "                    if root.right:\n",
    "                        return Solution().insert(root.right, val)\n",
    "                    else:\n",
    "                        root.right = TreeNode(val)\n",
    "                        return root.right\n",
    "                    \n",
    "            else:\n",
    "                root.val = val\n",
    "                return root\n",
    "            \n",
    "    def delete(self, root, target):#根據search的概念去做調整\n",
    "        \"\"\"\n",
    "        :type root: TreeNode\n",
    "        :type target: int\n",
    "        :rtype: TreeNode(the root of new completed binary search tree) (cannot search())\n",
    "        \"\"\"\n",
    "        if root.val == target:\n",
    "            root.val = None\n",
    "            if root.left:\n",
    "                Solution().delete(root.left, target)\n",
    "        elif root.val > target:\n",
    "            if root.left:\n",
    "                Solution().delete(root.left, target)\n",
    "        else:\n",
    "            if root.right:\n",
    "                Solution().delete(root.right, target)\n",
    "        \n",
    "        if Solution().search(root, target) == None:\n",
    "            new_root = TreeNode(None)\n",
    "            Solution().rebuild(root, new_root)\n",
    "            root = new_root\n",
    "            return root\n",
    "    def search(self, root, target):#參考影片並修改成全部包在一個class的版本\n",
    "        \"\"\"\n",
    "        :type root: TreeNode\n",
    "        :type target: int\n",
    "        :rtype: TreeNode(searched node)\n",
    "        \"\"\"\n",
    "        if root.val == target:\n",
    "            return root\n",
    "        else:\n",
    "            if root.val == None:\n",
    "                if root.left:\n",
    "                    return Solution().search(root.left, target)\n",
    "                elif root.right:\n",
    "                    return Solution().search(root.right, target)\n",
    "            elif root.val > target and root.left:\n",
    "                return Solution().search(root.left, target)\n",
    "            elif root.val < target and root.right:\n",
    "                return Solution().search(root.right, target)\n",
    "            else:\n",
    "                return None\n",
    "            \n",
    "    def modify(self, root, target, new_val):#根據search的概念去做修正\n",
    "        \"\"\"\n",
    "        :type root: TreeNode\n",
    "        :type target: int\n",
    "        :type new_val: int\n",
    "        :rtype:TreeNode(the root of new completed binary search tree) (cannot search())\n",
    "        \"\"\"\n",
    "        if root.val == target:\n",
    "            root.val = new_val\n",
    "            if root.left:\n",
    "                Solution().modify(root.left, target, new_val)\n",
    "        elif root.val > target:\n",
    "            if root.left:\n",
    "                Solution().modify(root.left, target, new_val)\n",
    "        else:\n",
    "            if root.right:\n",
    "                Solution().modify(root.right, target, new_val)\n",
    "                \n",
    "        if Solution().search(root, target) == None:\n",
    "            new_root = TreeNode(None)\n",
    "            Solution().rebuild(root, new_root)\n",
    "            root = new_root\n",
    "            return root\n",
    "    def rebuild(self, root, new_root):#參考影片中preorder的程式碼，並修改成這個版本\n",
    "        if root:\n",
    "            Solution().insert(new_root, root.val)\n",
    "            if root.left:\n",
    "                Solution().rebuild(root.left, new_root)\n",
    "            if root.right:\n",
    "                Solution().rebuild(root.right, new_root)"
   ]
  },
  {
   "cell_type": "markdown",
   "metadata": {},
   "source": [
    "## 心得\n",
    "    這次寫完，不得不承認，真的有體悟到技術累積這件事，雖然老師跟助教出作業出的很嚴厲，但沒有這樣我可能也沒辦法寫出這次的作業，程式能力恐怕也是跟大1大2時期一樣不足!"
   ]
  },
  {
   "cell_type": "markdown",
   "metadata": {},
   "source": [
    "## 參考資料\n"
   ]
  },
  {
   "cell_type": "markdown",
   "metadata": {},
   "source": [
    "[BST in Python 影片](https://www.youtube.com/watch?v=YlgPi75hIBc&feature=youtu.be)"
   ]
  }
 ],
 "metadata": {
  "kernelspec": {
   "display_name": "Python 3",
   "language": "python",
   "name": "python3"
  },
  "language_info": {
   "codemirror_mode": {
    "name": "ipython",
    "version": 3
   },
   "file_extension": ".py",
   "mimetype": "text/x-python",
   "name": "python",
   "nbconvert_exporter": "python",
   "pygments_lexer": "ipython3",
   "version": "3.7.1"
  }
 },
 "nbformat": 4,
 "nbformat_minor": 2
}
