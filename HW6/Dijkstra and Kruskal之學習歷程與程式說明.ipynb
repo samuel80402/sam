{
 "cells": [
  {
   "cell_type": "markdown",
   "metadata": {},
   "source": [
    "# Dijkstra and Kruskal\n",
    "    這次作業是Dijkstra and Kruskal的演算法(以下簡稱D、K)，這兩種演算法是為了找出最小路徑而生成的演算法。本次作業就是要用這兩種演算法來計算連通圖所有節點的最小花費路徑。"
   ]
  },
  {
   "cell_type": "markdown",
   "metadata": {},
   "source": [
    "## Dijkstra\n",
    "    首先要介紹D演算法，這個演算法的基本概念就是，從指定的起點開始，找出連接所有點且花費最小的路徑。其運作邏輯是，先查看起點能到所有圖中的那些節點，再尋找能到的節點中花費最少的節點，將其作為起點的延伸。之後就是根據起點以及延伸的節點，去連結那些延伸節點可連通的節點，並計算新的節點經由延伸節點連到起點的花費，找出最少花費的節點連起來做為起點的新延伸，依此類推直到所有節點都被連結並且是最短距離。\n",
    "![d](https://github.com/samuel80402/sam/blob/master/picture/graph.jpg?raw=true)\n",
    "![dd](https://github.com/samuel80402/sam/blob/master/picture/dijkstra.jpg?raw=true)"
   ]
  },
  {
   "cell_type": "markdown",
   "metadata": {},
   "source": [
    "### 程式說明與歷程\n",
    "    我一開始決定先寫D演算法，因為看到助教給的測試結果後，覺得D比較簡單。但實際寫起來發現還蠻難的，本來在紙上運算還算直觀，但怎麼把它寫成程式碼也是一大挑戰。\n",
    "    "
   ]
  },
  {
   "cell_type": "markdown",
   "metadata": {},
   "source": [
    "```python\n",
    "class Graph(): \n",
    "\n",
    "    def __init__(self, vertices): \n",
    "        self.V = vertices \n",
    "        self.graph = [] \n",
    "        self.graph_matrix = [[0 for colnum in range(vertices)]  \n",
    "                    for row in range(vertices)] \n",
    "    #def addEdge(self,u,v,w): \n",
    "```\n",
    "    上面是這次作業的格式\n",
    "```python\n",
    "            \n",
    "    def Dijkstra(self, s):\n",
    "        w = [0]*self.V#最後的花費\n",
    "        t = [s]#走訪的順序\n",
    "        index = []#儲存待會找到最小值的index\n",
    "        near = []\n",
    "```\n",
    "    這邊這樣設計是為了待會能夠儲存我走訪的點以及目前的累積的花費\n",
    "```python\n",
    "        while len(t) != self.V:\n",
    "            for i in range(self.V):\n",
    "                if i not in t:#為了不算已經走過的，所以使用這個去擋\n",
    "                    if w[i] == 0:#目前到哪都去不了，花費為0\n",
    "                        if self.graph[t[-1]][i]!=0:#每次+進t的都是最小花費的節點，因此呼叫t[-1]所對應的花費表\n",
    "                            w[i] = self.graph[t[-1]][i] + w[t[-1]]#因為除了自己以外要加自己到起點的花費\n",
    "                    else:\n",
    "                        if w[i] > self.graph[t[-1]][i] + w[t[-1]] and self.graph[t[-1]][i] != 0:\n",
    "                            w[i] = self.graph[t[-1]][i] + w[t[-1]]\n",
    "                            #這裡的條件是，當目前花費大於我要新增的花費，就要新增覆蓋成比較小的花費\n",
    "            for i in range(len(w)):\n",
    "                if w[i] != 0 and i not in t:#設此條件是為了找出非0最小值，且不能是已經走訪過的\n",
    "                    index.append(i)\n",
    "                    near.append(w[i])\n",
    "            print(index,near)\n",
    "            t.append(index[near.index(min(near))])#就新增新的走訪節點\n",
    "            index = []\n",
    "            near = []\n",
    "        return t,w\n",
    "```\n",
    "    這裡設計得很複雜，但就是運用self.graph的index剛好對應圖的節點，使用這個index來避免重複加"
   ]
  },
  {
   "cell_type": "markdown",
   "metadata": {},
   "source": [
    "    下面則是測試如何輸出助教格式以及正式版本和測試結果"
   ]
  },
  {
   "cell_type": "code",
   "execution_count": 48,
   "metadata": {},
   "outputs": [
    {
     "data": {
      "text/plain": [
       "{'0': 0, '1': 1, '2': 2}"
      ]
     },
     "execution_count": 48,
     "metadata": {},
     "output_type": "execute_result"
    }
   ],
   "source": [
    "dict = {}\n",
    "a = [0,1,2]\n",
    "dict = {}\n",
    "for i in a:\n",
    "    dict[str(i)] = i\n",
    "dict"
   ]
  },
  {
   "cell_type": "code",
   "execution_count": 46,
   "metadata": {},
   "outputs": [],
   "source": [
    "#最終 參考資料:https://www.runoob.com/python/python-dictionary.html\n",
    "class Graph(): \n",
    "\n",
    "    def __init__(self, vertices): \n",
    "        self.V = vertices \n",
    "        self.graph = [] \n",
    "        self.graph_matrix = [[0 for colnum in range(vertices)]  \n",
    "                    for row in range(vertices)] \n",
    "    def addEdge(self,u,v,w): \n",
    "        s = defaultdict(list)\n",
    "        dot = [u,v]\n",
    "        \n",
    "            \n",
    "    def Dijkstra(self, s):\n",
    "        w = [0]*self.V#最後的花費\n",
    "        t = [s]#走訪的順序\n",
    "        index = []\n",
    "        near = []\n",
    "        answer = {}\n",
    "        node = [i for i in range(self.V)]\n",
    "        while len(t) != self.V:\n",
    "            for i in range(self.V):\n",
    "                if i not in t:#為了不算已經走過的，所以使用這個去擋\n",
    "                    if w[i] == 0:#目前到哪都去不了，花費為0\n",
    "                        if self.graph[t[-1]][i]!=0:\n",
    "                            w[i] = self.graph[t[-1]][i] + w[t[-1]]#因為除了自己以外要加自己到起點的花費\n",
    "                    else:\n",
    "                        if w[i] > self.graph[t[-1]][i] + w[t[-1]] and self.graph[t[-1]][i] != 0:\n",
    "                            w[i] = self.graph[t[-1]][i] + w[t[-1]]    \n",
    "            for i in range(len(w)):\n",
    "                if w[i] != 0 and i not in t:\n",
    "                    index.append(i)\n",
    "                    near.append(w[i])\n",
    "            \n",
    "            t.append(index[near.index(min(near))])\n",
    "            index = []\n",
    "            near = []\n",
    "        for i in node:\n",
    "            answer[str(i)] = w[i]\n",
    "        return answer\n",
    "        "
   ]
  },
  {
   "cell_type": "code",
   "execution_count": 47,
   "metadata": {},
   "outputs": [
    {
     "data": {
      "text/plain": [
       "{'0': 0, '1': 4, '2': 12, '3': 19, '4': 21, '5': 11, '6': 9, '7': 8, '8': 14}"
      ]
     },
     "execution_count": 47,
     "metadata": {},
     "output_type": "execute_result"
    }
   ],
   "source": [
    "g = Graph(9)\n",
    "g.graph = [[0,4,0,0,0,0,0,8,0],\n",
    "          [4,0,8,0,0,0,0,8,0],\n",
    "          [0,8,0,7,0,4,0,0,2],\n",
    "          [0,0,7,0,9,14,0,0,0],\n",
    "          [0,0,0,9,0,10,0,0,0],\n",
    "          [0,0,4,14,10,0,2,0,0],\n",
    "          [0,0,0,0,0,2,0,1,6],\n",
    "          [8,11,0,0,0,0,1,0,7],\n",
    "          [0,0,2,0,0,0,6,7,0]]\n",
    "g.Dijkstra(0)\n"
   ]
  },
  {
   "cell_type": "code",
   "execution_count": 42,
   "metadata": {},
   "outputs": [
    {
     "name": "stdout",
     "output_type": "stream",
     "text": [
      "2 - 3\n",
      "0 - 3\n",
      "0 - 2\n",
      "0 - 1\n",
      "1 - 3\n"
     ]
    },
    {
     "data": {
      "text/plain": [
       "[0, 0, 2, 2]"
      ]
     },
     "execution_count": 42,
     "metadata": {},
     "output_type": "execute_result"
    }
   ],
   "source": [
    "q = Graph(4)\n",
    "q.addEdge(0,1,10)\n",
    "q.addEdge(0,2,6)\n",
    "q.addEdge(0,3,5)\n",
    "q.addEdge(1,3,15)\n",
    "q.addEdge(2,3,4)\n",
    "q.graph_matrix\n",
    "q.Kruskal()"
   ]
  },
  {
   "cell_type": "markdown",
   "metadata": {},
   "source": [
    "## Kruskal\n",
    "    這次作業的另一個演算法是K演算法，跟D不同在於，K會先把所有的路徑花費依照大小作排序，之後再按照這個順序去把一個一個點連結在一起。由於要最小路徑，因此在連線時不能產生封閉的線路，因為有封閉線路就表示一個點有多條路可以到，就沒有最短了。\n",
    "![k](https://github.com/samuel80402/sam/blob/master/picture/gk.jpg?raw=true)\n",
    "![k](https://github.com/samuel80402/sam/blob/master/picture/k.jpg?raw=true)"
   ]
  },
  {
   "cell_type": "markdown",
   "metadata": {},
   "source": [
    "### 程式碼說明\n",
    "    由於這次我沒有成功寫出K演算法，因此只能放上失敗的版本。我的邏輯是，先用self.graph把花費存起來，再把花費存到self.graph_matrix對應連接點的index中，然後用排序過的花費資料去一一呼叫那些對應的index作為點。"
   ]
  },
  {
   "cell_type": "code",
   "execution_count": null,
   "metadata": {},
   "outputs": [],
   "source": [
    "class Graph(): \n",
    "\n",
    "    def __init__(self, vertices): \n",
    "        self.V = vertices \n",
    "        self.graph = [] \n",
    "        self.graph_matrix = [[0 for colnum in range(vertices)]  \n",
    "                    for row in range(vertices)] \n",
    "\n",
    "\n",
    "    def addEdge(self,u,v,w): \n",
    "        self.graph.append(w)\n",
    "        self.graph_matrix[u][v]=w\n",
    "        return self.graph.sort()\n",
    "\n",
    "\n",
    "\n",
    "    def Kruskal(self):\n",
    "        root = [-1]*self.V\n",
    "        target = 0\n",
    "        answer = []\n",
    "        while target < len(self.graph):\n",
    "            for i in range(self.V):\n",
    "                for j in range(self.V):\n",
    "                    if self.graph_matrix[i][j] == self.graph[target]:#target是花費的index，ij則是兩個相連的點\n",
    "                        if root[j] == -1:\n",
    "                            root[i],root[j] = i,i\n",
    "                            w = print(str(i),\"-\",str(j))#這邊嘗試用奇怪的做法改成助教要的，但沒成功\n",
    "                            answer.append(a)\n",
    "                        elif root[i] == -1 != root[j] or root[i] != -1 != root:\n",
    "                            for k in root:\n",
    "                                if k == root[j]:\n",
    "                                    k = i\n",
    "                            w = print(str(i),\"-\",str(j))\n",
    "                            answer.append(a)\n",
    "            target+=1\n",
    "        return root#整體來說包了太多層迴圈，因此有失敗我也找不到"
   ]
  },
  {
   "cell_type": "markdown",
   "metadata": {},
   "source": [
    "## 心得\n",
    "這次的心得就是，想法的實現並沒有那麼容易，尤其是對於我們大腦很直觀的部分，還需要拆成一步一步的程式才能讓電腦執行。前幾次作業我都有成功完成，作業5更是花不到2小時就寫完了，本來以為這次也不會太難，但我還是花了很多時間才寫完d演算法，甚至連K都沒有完成。總結來說就是對自己太有把握沒掌握好時間，並且沒有把技術債全部還完，才導致這次失敗。\n",
    "\n",
    "    這堂課到這裡也差不多結束了，整堂下來雖然很苦，但也累積了一些實力，對程式碼不再那麼抗拒，同時也認清自己還有哪些不足，技術債既然欠了，就得想辦法還，不然真的沒辦法生存下去。這堂課也實際的訓練到我的邏輯，讓邏輯更嚴謹，考慮更周全，總體來說還是成長了許多。"
   ]
  },
  {
   "cell_type": "markdown",
   "metadata": {},
   "source": [
    "## 參考資料\n",
    "[上課ppt](https://docs.google.com/presentation/d/e/2PACX-1vTgHO5AkHJS6iN6bnnBMMdHv6E4rabnrC0KwyTRfjad8Ab3IQjbnGvZuQOjDC9t7nKqeroiwcuasJrI/pub?start=false&loop=false&delayms=3000&slide=id.p)\n",
    "[dict](https://www.runoob.com/python/python-dictionary.html)"
   ]
  }
 ],
 "metadata": {
  "kernelspec": {
   "display_name": "Python 3",
   "language": "python",
   "name": "python3"
  },
  "language_info": {
   "codemirror_mode": {
    "name": "ipython",
    "version": 3
   },
   "file_extension": ".py",
   "mimetype": "text/x-python",
   "name": "python",
   "nbconvert_exporter": "python",
   "pygments_lexer": "ipython3",
   "version": "3.7.1"
  }
 },
 "nbformat": 4,
 "nbformat_minor": 2
}
