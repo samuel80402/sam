{
 "cells": [
  {
   "cell_type": "markdown",
   "metadata": {},
   "source": [
    "# MergeSort\n",
    "    merge sort 這種排序法，就是讓電腦把一整組的資料拆分成最小單位，拆分之後再以兩組兩組去比較大小然後合併，合併後的在跟合併後的資料比大小然後合併，以此類推，最後會合併成整組已排序好的資料。"
   ]
  },
  {
   "cell_type": "markdown",
   "metadata": {},
   "source": [
    "![merge流程圖](https://github.com/samuel80402/sam/blob/master/week6/Merge.jpg?raw=true)"
   ]
  },
  {
   "cell_type": "markdown",
   "metadata": {},
   "source": [
    "## 學習歷程\n",
    "    在得知這次作業後，我認為mergesort應該比較簡單，於是我便先寫mergesort。我的構想是將程式分成兩個部分，一個是分堆，一個是排序與合併。分堆要把輸入的資料分成最細小的部分，再由合併把細小的部分排序與合併，最終輸出正確排序版。\n",
    "    "
   ]
  },
  {
   "cell_type": "markdown",
   "metadata": {},
   "source": [
    "### 分堆的程式\n",
    "    在寫分堆程式的時候我思考了一下，便想到上次的quicksort作業，也是要把資料分成大堆小堆，而mergesort的分堆則只要把資料細分成最小，還不用進行排序，所以就想出了以下的程式。\n",
    "    "
   ]
  },
  {
   "cell_type": "code",
   "execution_count": 5,
   "metadata": {},
   "outputs": [],
   "source": [
    "    def Split(nums):\n",
    "        left = []\n",
    "        right = []\n",
    "        if len(nums)<=1:\n",
    "            return nums\n",
    "        else:\n",
    "            for i in nums[0:len(nums)//2]:\n",
    "                left.append(i)\n",
    "            for j in nums[len(nums)//2:]:\n",
    "                right.append(j)\n",
    "        return Split(left,right)"
   ]
  },
  {
   "cell_type": "markdown",
   "metadata": {},
   "source": [
    "### 排序與合併的程式\n",
    "    排序與合併的程式我想比較久，後來經過老師的說明後有比較理解一些，於是就試著自己把規則寫出來。\n",
    "![merge](https://github.com/samuel80402/sam/blob/master/week6/merge1.jpg?raw=true)\n",
    "    "
   ]
  },
  {
   "cell_type": "markdown",
   "metadata": {},
   "source": [
    "    然後決定先把程式碼寫出來，再來想兩個要怎麼合併，再寫的時候有遇到很多問題，例如合併錯誤，無法把剩餘的那堆資料加進去，於是有參考了維基百科的寫法。\n",
    "   [MERGESORT維基百科](https://zh.wikipedia.org/wiki/%E5%BD%92%E5%B9%B6%E6%8E%92%E5%BA%8F#Python)\n"
   ]
  },
  {
   "cell_type": "code",
   "execution_count": 6,
   "metadata": {},
   "outputs": [],
   "source": [
    "    def Merge(left,right):\n",
    "        m = []\n",
    "        i = 0\n",
    "        j = 0\n",
    "        for k in range(len(left)+len(right)):#讓這個迴圈執行到合併堆的長度等於兩個小堆的長度和\n",
    "            if j == len(right):\n",
    "                m = m+left[i:]#本來是用for迴圈去一個一個加剩下的值，但覺得兩個for跑比較慢所以改成維基的方法\n",
    "                break\n",
    "            elif i == len(left):\n",
    "                m = m+right[j:]\n",
    "                break#在沒加break前就因為我迴圈設定的問題，所以會重複新增已經被加過的剩餘值，後來才想到要用break停止迴圈\n",
    "            elif left[i]<=right[j]:\n",
    "                m.append(left[i])\n",
    "                i+=1\n",
    "            elif left[i]>right[j]:\n",
    "                m.append(right[j])\n",
    "                j+=1\n",
    "\n",
    "        return m"
   ]
  },
  {
   "cell_type": "markdown",
   "metadata": {},
   "source": [
    "### 合併兩個程式實現MergeSort\n",
    "    在合併的部分我真的一直想不透，究竟要怎麼把被分成那麼小堆的資料一次輸入到merge程式裡，因為我定義merge時就指定只能輸入兩個list，所以在這邊苦惱很久。最後參考了維基百科的方法後，才得知要在Split程式裡最後Merge過資料再return，於是生出了最終版的程式碼。\n",
    "    \n",
    "    ##備註:我之前都是把兩個def分開寫，但後來包入class重新執行後，就遇到無法定義的問題，才知道原來用class包這些程式後，原本的def因為重新跑過根本就沒被定義，因此會遇到 is not defined的問題，因此在寫程式時要指定好。##\n",
    "    \n",
    "    "
   ]
  },
  {
   "cell_type": "code",
   "execution_count": 2,
   "metadata": {},
   "outputs": [],
   "source": [
    "class Solution(object):\n",
    "    def merge_sort(self, nums):\n",
    "        left = []\n",
    "        right = []\n",
    "        if len(nums)<=1:\n",
    "            return nums\n",
    "        else:\n",
    "            for i in nums[0:len(nums)//2]:\n",
    "                left.append(i)\n",
    "            for j in nums[len(nums)//2:]:\n",
    "                right.append(j)\n",
    "            left = Solution().merge_sort(left)#備註說的就是這個，我原本不知道還傻傻以為是jupyter的問題，尷尬\n",
    "            right = Solution().merge_sort(right)\n",
    "        \n",
    "        return Solution().Merge(left,right)#這邊參考維基的寫法，讓程式先merge_sort left 跟 right，再return Merge的值\n",
    "    \n",
    "    def Merge(self,left,right):\n",
    "        m = []\n",
    "        i = 0\n",
    "        j = 0\n",
    "        for k in range(len(left)+len(right)):\n",
    "            if j == len(right):\n",
    "                m = m+left[i:]\n",
    "                break\n",
    "            elif i == len(left):\n",
    "                m = m+right[j:]\n",
    "                break\n",
    "            elif left[i]<=right[j]:\n",
    "                m.append(left[i])\n",
    "                i+=1\n",
    "            elif left[i]>right[j]:\n",
    "                m.append(right[j])\n",
    "                j+=1\n",
    "\n",
    "        return m"
   ]
  },
  {
   "cell_type": "markdown",
   "metadata": {},
   "source": [
    "## 成功!"
   ]
  },
  {
   "cell_type": "code",
   "execution_count": 3,
   "metadata": {},
   "outputs": [
    {
     "data": {
      "text/plain": [
       "[2, 3, 5, 5, 6, 9, 34, 64, 78]"
      ]
     },
     "execution_count": 3,
     "metadata": {},
     "output_type": "execute_result"
    }
   ],
   "source": [
    "output = Solution().merge_sort([5,3,78,5,64,2,6,9,34])\n",
    "output"
   ]
  },
  {
   "cell_type": "markdown",
   "metadata": {},
   "source": [
    "## 心得\n",
    "    最後我終於寫完這個程式了，mergesort比heapsort簡單，因此我很快就想到了解法，只是在合併兩個程式的過程出了很多問題，所以參考了網路上的做法，才終於順利的把程式碼合併，執行出MergeSort的完整功能。"
   ]
  }
 ],
 "metadata": {
  "kernelspec": {
   "display_name": "Python 3",
   "language": "python",
   "name": "python3"
  },
  "language_info": {
   "codemirror_mode": {
    "name": "ipython",
    "version": 3
   },
   "file_extension": ".py",
   "mimetype": "text/x-python",
   "name": "python",
   "nbconvert_exporter": "python",
   "pygments_lexer": "ipython3",
   "version": "3.7.1"
  }
 },
 "nbformat": 4,
 "nbformat_minor": 2
}
