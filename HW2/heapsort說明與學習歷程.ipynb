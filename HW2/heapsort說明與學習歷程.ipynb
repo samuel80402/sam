{
 "cells": [
  {
   "cell_type": "markdown",
   "metadata": {},
   "source": [
    "# HeapSort\n",
    "    HeapSort的概念就是建構一個樹狀結構，以最頂端的值稱為根(root)，並且每個值會延伸兩個小孩，且唯有同一層全部填滿的情況下才會在衍伸下一層的小孩。該樹狀結構有一個要求，就是父母親的值要比小孩的大(Max heap)或小(Min Heap)。整個heapsort的概念就是，先把隨機未排序的資料建立成Max Heap或是Min Heap，再把最頂端的root值取出，並把最底端的值帶入頂端做為新的root，此時整個heap的結構就違反了Max或Min Heap，於是會再重新建立正確的Heap，把頂端值取出然後再拿底端值做為新的root，重複循環直到整筆資料被排序好，就完成了。\n",
    "![heapsort](https://github.com/samuel80402/sam/blob/master/week6/heap.jpg?raw=true)"
   ]
  },
  {
   "cell_type": "markdown",
   "metadata": {},
   "source": [
    "## 學習歷程\n",
    "    我一開始想說既然它是用樹的結構，我就用樹來寫寫看，但礙於我真的完全不知道怎麼寫，所以打算參考老師的版本，看看老師的版本是怎麼做的再來思考我能怎麼做。在看過老師的版本後，我發現我完全不知道是在寫甚麼，所以我又按照老師的程式碼去寫一步步資料會發生甚麼改變，才終於弄懂程式邏輯是怎麼運作的。\n",
    "[老師的heap sort](https://github.com/pecu/DSA/blob/master/06_HeapSort/heapSort.py)"
   ]
  },
  {
   "cell_type": "code",
   "execution_count": 1,
   "metadata": {},
   "outputs": [],
   "source": [
    "def heapify(arr, n, i): \n",
    "\tlargest = i # Initialize largest as root \n",
    "\tl = 2 * i + 1\t # left = 2*i + 1 \n",
    "\tr = 2 * i + 2\t # right = 2*i + 2 \n",
    "\n",
    "\t# See if left child of root exists and is \n",
    "\t# greater than root \n",
    "\tif l < n and arr[i] < arr[l]: \n",
    "\t\tlargest = l \n",
    "\n",
    "\t# See if right child of root exists and is \n",
    "\t# greater than root \n",
    "\tif r < n and arr[largest] < arr[r]: \n",
    "\t\tlargest = r \n",
    "\n",
    "\t# Change root, if needed \n",
    "\tif largest != i: \n",
    "\t\tarr[i],arr[largest] = arr[largest],arr[i] # swap \n",
    "\n",
    "\t\t# Heapify the root. \n",
    "\t\theapify(arr, n, largest) \n",
    "\n",
    "# The main function to sort an array of given size \n",
    "def heapSort(arr): \n",
    "\tn = len(arr) \n",
    "\n",
    "\t# Build a maxheap. \n",
    "\tfor i in range(n, -1, -1): \n",
    "\t\theapify(arr, n, i) \n",
    "\n",
    "\t# One by one extract elements \n",
    "\tfor i in range(n-1, 0, -1): \n",
    "\t\tarr[i], arr[0] = arr[0], arr[i] # swap \n",
    "\t\theapify(arr, i, 0)"
   ]
  },
  {
   "cell_type": "markdown",
   "metadata": {},
   "source": [
    "### heapify\n",
    "    首先我先嘗試理解heapify的規則:\n",
    "![heapify](https://github.com/samuel80402/sam/blob/master/week6/heapify.jpg?raw=true)"
   ]
  },
  {
   "cell_type": "markdown",
   "metadata": {},
   "source": [
    "    了解邏輯後便嘗試自己寫一次"
   ]
  },
  {
   "cell_type": "code",
   "execution_count": 2,
   "metadata": {},
   "outputs": [],
   "source": [
    "def heapify(nums,i):\n",
    "    n = len(nums)#這邊我一開始想說自己先把n指定好，就不用跟老師那樣多輸入一個n，但後來才發現這樣會不行\n",
    "    root = i\n",
    "    left = i*2+1\n",
    "    right = i*2+2\n",
    "    if left < n and nums[left] > nums[root]:\n",
    "        root = left\n",
    "    if right < n and nums[right] > nums[root]:\n",
    "        root = right\n",
    "    if i != root:\n",
    "        nums[i],nums[root] = nums[root],nums[i]\n",
    "        return heapify(nums,root)"
   ]
  },
  {
   "cell_type": "markdown",
   "metadata": {},
   "source": [
    "### HeapSort\n",
    "    heapify規則我看懂之後，就來看heapsort為何要這樣寫迴圈，於是我針對第一個迴圈進行一步一步觀察到底在幹嘛，才終於想通heapsort的部分，因為當遇到隨機的heap，要先從最下面那個值去往上比，才會建構成合法的Max或Min heap。\n",
    "![Max Heap](https://github.com/samuel80402/sam/blob/master/week6/Max%20Heap.jpg?raw=true)"
   ]
  },
  {
   "cell_type": "markdown",
   "metadata": {},
   "source": [
    "    後來我開始看第二個迴圈，看完把每個步驟寫出來，然後才搞懂它的規律。\n",
    "![第二個迴圈](https://github.com/samuel80402/sam/blob/master/week6/Heapsort.jpg?raw=true)"
   ]
  },
  {
   "cell_type": "markdown",
   "metadata": {},
   "source": [
    "    搞懂之後就實際操作寫一次程式。\n",
    "   "
   ]
  },
  {
   "cell_type": "code",
   "execution_count": 1,
   "metadata": {},
   "outputs": [],
   "source": [
    "def heapsort(nums):\n",
    "    for i in range(len(nums)-1,-1,-1):\n",
    "        heapify(nums,i)\n",
    "    for i in range(len(nums)-1,0,-1):\n",
    "        nums[0],nums[i] = nums[i],nums[0]\n",
    "        heapify(nums[0:i],0)\n",
    "    return nums\n"
   ]
  },
  {
   "cell_type": "code",
   "execution_count": 3,
   "metadata": {},
   "outputs": [
    {
     "data": {
      "text/plain": [
       "[8, 5, 6, 0, 4, 2, 9]"
      ]
     },
     "execution_count": 3,
     "metadata": {},
     "output_type": "execute_result"
    }
   ],
   "source": [
    "heapsort([0,9,5,6,8,4,2])"
   ]
  },
  {
   "cell_type": "markdown",
   "metadata": {},
   "source": [
    "    遇到了令人打擊的失敗，才注意到n如果不是從外部指定進heapify就會在 left < n的那個條件出現問題，所以老師才要這樣寫，最後就根據我對老師的程式碼理解，自己在沒有看程式碼而且經過3個小時以上再自己重新寫一遍，總算完成這次的程式。"
   ]
  },
  {
   "cell_type": "code",
   "execution_count": 4,
   "metadata": {},
   "outputs": [],
   "source": [
    "class Solution(object):\n",
    "    def heap_sort(self,nums):\n",
    "        \"\"\"\n",
    "        :type nums: List[int] ex:[3,2,-4,6,4,2,19],[5,1,1,2,0,0]\n",
    "        :rtype: List[int] ex:[-4,2,2,3,4,6,19],[0,0,1,1,2,5]\n",
    "        \"\"\"\n",
    "        n = len(nums)\n",
    "        for i in range(n-1,-1,-1):\n",
    "            Solution().heapify(nums,i,n)\n",
    "        for i in range(n-1,0,-1):\n",
    "            nums[i],nums[0] = nums[0],nums[i]\n",
    "            Solution().heapify(nums,0,i)\n",
    "        \n",
    "        return nums    \n",
    "\n",
    "    def heapify(self,nums,i,n):\n",
    "        root = i\n",
    "        left = i*2+1\n",
    "        right = i*2+2\n",
    "        if left < n and nums[left] > nums[root]:\n",
    "            root = left\n",
    "        if right < n and nums[right] > nums[root]:\n",
    "            root = right\n",
    "        if i != root:\n",
    "            nums[i],nums[root] = nums[root],nums[i]\n",
    "            Solution().heapify(nums,root,n)\n",
    "        "
   ]
  },
  {
   "cell_type": "markdown",
   "metadata": {},
   "source": [
    "## 成功!"
   ]
  },
  {
   "cell_type": "code",
   "execution_count": 5,
   "metadata": {},
   "outputs": [
    {
     "data": {
      "text/plain": [
       "[2, 3, 5, 5, 6, 9, 34, 64, 78]"
      ]
     },
     "execution_count": 5,
     "metadata": {},
     "output_type": "execute_result"
    }
   ],
   "source": [
    "output = Solution().heap_sort([5,3,78,5,64,2,6,9,34])\n",
    "output"
   ]
  },
  {
   "cell_type": "markdown",
   "metadata": {},
   "source": [
    "## 心得\n",
    "    這次實作完我真的覺得heapsort真的好難，但在經過自己實際演練一遍，有讓自己了解heapsort的概念，不過還是無法自己憑空生出程式碼。我在自己嘗試修改的時候，都只想到如何把程式複雜化，但實在是覺得沒有必要花半天把簡單的程式搞得很複雜，所以有學會就好。"
   ]
  }
 ],
 "metadata": {
  "kernelspec": {
   "display_name": "Python 3",
   "language": "python",
   "name": "python3"
  },
  "language_info": {
   "codemirror_mode": {
    "name": "ipython",
    "version": 3
   },
   "file_extension": ".py",
   "mimetype": "text/x-python",
   "name": "python",
   "nbconvert_exporter": "python",
   "pygments_lexer": "ipython3",
   "version": "3.7.1"
  }
 },
 "nbformat": 4,
 "nbformat_minor": 2
}
