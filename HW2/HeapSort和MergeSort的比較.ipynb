{
 "cells": [
  {
   "cell_type": "markdown",
   "metadata": {},
   "source": [
    "# MergeSort 和 HeapSort的差別\n",
    "    我真想說MergeSort跟HeapSort的差別就是HeapSort難超級多，但是不行，所以在經過這次作業後我整理出兩種排序法的差別。"
   ]
  },
  {
   "cell_type": "markdown",
   "metadata": {},
   "source": [
    "## MergeSort\n",
    "    首先來談mergesort，它的概念就是把一個大資料拆分成無數個小資料，再拿一個個小資料相互比較合併，重複多次後合併出排序好的整組資料。它在規則方面不像heapsort那麼複雜，因為它就是把資料馬上拆分再排序合併，所以在資料較小的時候mergesort比較快。"
   ]
  },
  {
   "cell_type": "code",
   "execution_count": 1,
   "metadata": {},
   "outputs": [],
   "source": [
    "class Solution(object):\n",
    "    def merge_sort(self, nums):\n",
    "        \"\"\"\n",
    "        :type nums: List[int] ex:[3,2,-4,6,4,2,19],[5,1,1,2,0,0]\n",
    "        :rtype: List[int] ex:[-4,2,2,3,4,6,19],[0,0,1,1,2,5]\n",
    "        \"\"\"\n",
    "        left = []\n",
    "        right = []\n",
    "        if len(nums)<=1:\n",
    "            return nums\n",
    "        else:\n",
    "            for i in nums[0:len(nums)//2]:\n",
    "                left.append(i)\n",
    "            for j in nums[len(nums)//2:]:\n",
    "                right.append(j)\n",
    "            left = Solution().merge_sort(left)\n",
    "            right = Solution().merge_sort(right)\n",
    "        \n",
    "        return Solution().Merge(left,right)\n",
    "    \n",
    "    def Merge(self,left,right):\n",
    "        m = []\n",
    "        i = 0\n",
    "        j = 0\n",
    "        for k in range(len(left)+len(right)):\n",
    "            if j == len(right):\n",
    "                m = m+left[i:]\n",
    "                break\n",
    "            elif i == len(left):\n",
    "                m = m+right[j:]\n",
    "                break\n",
    "            elif left[i]<=right[j]:\n",
    "                m.append(left[i])\n",
    "                i+=1\n",
    "            elif left[i]>right[j]:\n",
    "                m.append(right[j])\n",
    "                j+=1\n",
    "\n",
    "        return m"
   ]
  },
  {
   "cell_type": "markdown",
   "metadata": {},
   "source": [
    "## HeapSort\n",
    "    heapsort的結構比較嚴謹，因為它需要保證每次的heap都是合法結構的heap，再把最頂端的root取出並把抵端的值放入heap成為新的root，然後重新建構成合法結構，依此重複執行直到排好。光聽說明就覺得這個方法複雜很多，實際上在建構程式碼的時候也比較複雜，因此當資料比較小的情況，會比mergesort慢。"
   ]
  },
  {
   "cell_type": "code",
   "execution_count": 2,
   "metadata": {},
   "outputs": [],
   "source": [
    "class Solution(object):\n",
    "    def heap_sort(self,nums):\n",
    "        \"\"\"\n",
    "        :type nums: List[int] ex:[3,2,-4,6,4,2,19],[5,1,1,2,0,0]\n",
    "        :rtype: List[int] ex:[-4,2,2,3,4,6,19],[0,0,1,1,2,5]\n",
    "        \"\"\"\n",
    "        n = len(nums)\n",
    "        for i in range(n-1,-1,-1):\n",
    "            Solution().heapify(nums,i,n)\n",
    "        for i in range(n-1,0,-1):\n",
    "            nums[i],nums[0] = nums[0],nums[i]\n",
    "            Solution().heapify(nums,0,i)\n",
    "        \n",
    "        return nums    \n",
    "\n",
    "    def heapify(self,nums,i,n):\n",
    "        root = i\n",
    "        left = i*2+1\n",
    "        right = i*2+2\n",
    "        if left < n and nums[left] > nums[root]:\n",
    "            root = left\n",
    "        if right < n and nums[right] > nums[root]:\n",
    "            root = right\n",
    "        if i != root:\n",
    "            nums[i],nums[root] = nums[root],nums[i]\n",
    "            Solution().heapify(nums,root,n)\n",
    "        "
   ]
  }
 ],
 "metadata": {
  "kernelspec": {
   "display_name": "Python 3",
   "language": "python",
   "name": "python3"
  },
  "language_info": {
   "codemirror_mode": {
    "name": "ipython",
    "version": 3
   },
   "file_extension": ".py",
   "mimetype": "text/x-python",
   "name": "python",
   "nbconvert_exporter": "python",
   "pygments_lexer": "ipython3",
   "version": "3.7.1"
  }
 },
 "nbformat": 4,
 "nbformat_minor": 2
}
