{
 "cells": [
  {
   "cell_type": "code",
   "execution_count": 3,
   "metadata": {},
   "outputs": [],
   "source": [
    "def quicksort(nums):\n",
    "    n = 0\n",
    "    if len(nums)<=1:\n",
    "        return nums\n",
    "    else:\n",
    "        for i in range(len(nums)):\n",
    "            key = nums[n]\n",
    "            if nums[i] < key:\n",
    "                nums.insert(0,nums[i])\n",
    "                nums.pop(i+1)\n",
    "                n = n+1\n",
    "        small = nums[0:n]\n",
    "        big = nums[n+1:]\n",
    "        middle = [nums[n]]\n",
    "        small = quicksort(small)\n",
    "        big = quicksort(big)\n",
    "                    \n",
    "        return small+middle+big"
   ]
  },
  {
   "cell_type": "code",
   "execution_count": 5,
   "metadata": {},
   "outputs": [
    {
     "data": {
      "text/plain": [
       "[1, 3, 4, 4, 4, 6, 7, 9, 15, 17, 22, 68]"
      ]
     },
     "execution_count": 5,
     "metadata": {},
     "output_type": "execute_result"
    }
   ],
   "source": [
    "n = [7,3,4,1,17,6,4,68,9,4,15,22]\n",
    "quicksort(n)"
   ]
  },
  {
   "cell_type": "code",
   "execution_count": null,
   "metadata": {},
   "outputs": [],
   "source": []
  }
 ],
 "metadata": {
  "kernelspec": {
   "display_name": "Python 3",
   "language": "python",
   "name": "python3"
  },
  "language_info": {
   "codemirror_mode": {
    "name": "ipython",
    "version": 3
   },
   "file_extension": ".py",
   "mimetype": "text/x-python",
   "name": "python",
   "nbconvert_exporter": "python",
   "pygments_lexer": "ipython3",
   "version": "3.7.1"
  }
 },
 "nbformat": 4,
 "nbformat_minor": 2
}
