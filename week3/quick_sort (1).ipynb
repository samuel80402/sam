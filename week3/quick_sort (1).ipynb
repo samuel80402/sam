{
 "cells": [
  {
   "cell_type": "code",
   "execution_count": 1,
   "metadata": {},
   "outputs": [],
   "source": [
    "#我所參考的網路解答\n",
    "def quick_sort(list): #extra-place\n",
    "    smaller = []\n",
    "    bigger = []\n",
    "    keylist = []#我參考以額外空間儲存分堆後資料的想法\n",
    "\n",
    "    if len(list) <= 1:\n",
    "        return list#我從此程式碼得知要指定當list只有1個值時要回傳\n",
    "\n",
    "    else:\n",
    "        key = list[0] #第一個數為key值\n",
    "        for i in list:\n",
    "            if i < key: #比key值小的數\n",
    "                smaller.append(i)\n",
    "            elif i > key: #比key值大的數\n",
    "                bigger.append(i)\n",
    "            else:\n",
    "                keylist.append(i)\n",
    "\n",
    "    smaller = quick_sort(smaller)\n",
    "    bigger = quick_sort(bigger)#我參考再度呼叫quick_sort處理剩餘未分類的部分\n",
    "    return smaller + keylist + bigger"
   ]
  },
  {
   "cell_type": "code",
   "execution_count": 3,
   "metadata": {},
   "outputs": [],
   "source": [
    "def quicksort(nums):\n",
    "    n = 0 #指定一個變數n為0，因為我想以list的第一筆資料為基準點\n",
    "    if len(nums)<=1:\n",
    "        return nums #當list的值只剩1時，表示不用再分成大堆小堆，因此return該list\n",
    "    else:\n",
    "        for i in range(len(nums)):\n",
    "            key = nums[n] #預設的基準點為index = 0的值\n",
    "            if nums[i] < key:\n",
    "                nums.insert(0,nums[i]) #在基準值前面新增比其小的那個值\n",
    "                nums.pop(i+1) #把原本比較小的值刪除，指定i+1是因為我前面新增一個值，整個list的位置會往後推，因此本來在i的值會在i+1\n",
    "                n = n+1 #由於基準值的位置被往後推，因此把位置+1才會定位在我原來指定的基準值\n",
    "        small = nums[0:n] \n",
    "        big = nums[n+1:]\n",
    "        middle = [nums[n]]\n",
    "        small = quicksort(small) \n",
    "        big = quicksort(big) #利用3個額外空間去儲存基準值、大堆跟小堆，再呼叫quicksort把大堆小堆依前面的方式分堆\n",
    "                    \n",
    "        return small+middle+big"
   ]
  },
  {
   "cell_type": "code",
   "execution_count": 5,
   "metadata": {},
   "outputs": [
    {
     "data": {
      "text/plain": [
       "[1, 3, 4, 4, 4, 6, 7, 9, 15, 17, 22, 68]"
      ]
     },
     "execution_count": 5,
     "metadata": {},
     "output_type": "execute_result"
    }
   ],
   "source": [
    "n = [7,3,4,1,17,6,4,68,9,4,15,22]\n",
    "quicksort(n)"
   ]
  },
  {
   "cell_type": "code",
   "execution_count": null,
   "metadata": {},
   "outputs": [],
   "source": []
  }
 ],
 "metadata": {
  "kernelspec": {
   "display_name": "Python 3",
   "language": "python",
   "name": "python3"
  },
  "language_info": {
   "codemirror_mode": {
    "name": "ipython",
    "version": 3
   },
   "file_extension": ".py",
   "mimetype": "text/x-python",
   "name": "python",
   "nbconvert_exporter": "python",
   "pygments_lexer": "ipython3",
   "version": "3.7.1"
  }
 },
 "nbformat": 4,
 "nbformat_minor": 2
}
