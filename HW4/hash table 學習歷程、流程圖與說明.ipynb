{
 "cells": [
  {
   "cell_type": "markdown",
   "metadata": {},
   "source": [
    "# Hash Table\n",
    "    Hash Table，是一種結合array和linkedlist的資料結構，概念是依照自己設定的類別(通常是以取餘數的方式)，建立和類別數相當的儲存區域，之後再將輸入的資料依照類別分別存入對應的儲存空間。儲存空間的建置則是依照linkedlist將新增的每筆資料依序存入所屬類別的node，因此每個類別會依照輸入資料的多寡建立出長度不一的linkedlist。\n",
    "![hash](https://github.com/samuel80402/sam/blob/master/picture/hash.jpg?raw=true)"
   ]
  },
  {
   "cell_type": "markdown",
   "metadata": {},
   "source": [
    "## 加密\n",
    "    首先就要學習加密方式，因為這次作業不需要自己寫加密方法，只需要安裝套件MD5並使用其加密方式即可，因此我先按照助教貼在ppt的測試方式，了解一下MD5的加密寫法。"
   ]
  },
  {
   "cell_type": "code",
   "execution_count": 1,
   "metadata": {},
   "outputs": [],
   "source": [
    "from Crypto.Hash import MD5"
   ]
  },
  {
   "cell_type": "code",
   "execution_count": 2,
   "metadata": {},
   "outputs": [
    {
     "name": "stdout",
     "output_type": "stream",
     "text": [
      "9395e426eaebfce4070229cbd050ccea\n",
      "196174795085068914864932698299823082730\n"
     ]
    }
   ],
   "source": [
    "h = MD5.new()#測試md5\n",
    "h.update(\"iccdapa\".encode(\"utf-8\"))\n",
    "print(h.hexdigest())\n",
    "print(int(h.hexdigest(), 16))"
   ]
  },
  {
   "cell_type": "markdown",
   "metadata": {},
   "source": [
    "## __init__\n",
    "    由於不太了解hash set裡面的__init__定義，因此稍微的測試一下會長怎樣。"
   ]
  },
  {
   "cell_type": "code",
   "execution_count": 3,
   "metadata": {},
   "outputs": [
    {
     "data": {
      "text/plain": [
       "[None, None, None, None, None]"
      ]
     },
     "execution_count": 3,
     "metadata": {},
     "output_type": "execute_result"
    }
   ],
   "source": [
    "c = [None]*5 #測試hash set的data會長怎樣\n",
    "c"
   ]
  },
  {
   "cell_type": "markdown",
   "metadata": {},
   "source": [
    "## Array and Linkedlist連結\n",
    "    在知道要用array跟linkedlist連結後，我開始思考到底怎麼連結，測試了一些方法都是error，最後想到只要把node頭的位置存在array裡，到時候就可以根據不同的餘數呼叫array裡面相對應index的node。\n",
    "    "
   ]
  },
  {
   "cell_type": "code",
   "execution_count": 4,
   "metadata": {},
   "outputs": [
    {
     "data": {
      "text/plain": [
       "2"
      ]
     },
     "execution_count": 4,
     "metadata": {},
     "output_type": "execute_result"
    }
   ],
   "source": [
    "class node:\n",
    "    def __init__(self ,val):\n",
    "        self.val = val\n",
    "        self.next = None\n",
    "\n",
    "\n",
    "a = node(2)\n",
    "b = [node(3)]\n",
    "b[0].next = a\n",
    "b[0].next.val"
   ]
  },
  {
   "cell_type": "markdown",
   "metadata": {},
   "source": [
    "## 新增Add\n",
    "    在大概理解init和如何連結array和linkedlist後，我就有一個新增的概念了。新增的方式就是，先把字串加密成10進位的數字，根據array的空間數去取餘數，如果array對應餘數的index中為None，就將加密後的資料以node的形式存在餘數對應的index，若array該index已經存入node，則以array裡面的node為頭，往後建立Linkedlist。\n",
    "![add](https://github.com/samuel80402/sam/blob/master/picture/add.jpg?raw=true)"
   ]
  },
  {
   "cell_type": "code",
   "execution_count": 5,
   "metadata": {},
   "outputs": [],
   "source": [
    "#參考資料: 助教測資與https://github.com/imucici/my-learning-note/blob/master/HW3/binary_search_tree_06170211.py\n",
    "class ListNode:\n",
    "    def __init__(self, val):\n",
    "        self.val = val\n",
    "        self.next = None\n",
    "        \"\"\"\n",
    "        :type val: int\n",
    "        :type next: ListNode\n",
    "        :rtype: None        \n",
    "        \"\"\"\n",
    "\n",
    "class MyHashSet:\n",
    "    def __init__(self, capacity=5):\n",
    "        self.capacity = capacity\n",
    "        self.data = [None] * capacity\n",
    "        \"\"\"\n",
    "        :type capacity: int\n",
    "        :rtype: None\n",
    "        \"\"\"\n",
    "    def add(self, key):\n",
    "        \"\"\"\n",
    "        :type key: str\n",
    "        :rtype: None\n",
    "        \"\"\"\n",
    "        password = self.getpassword(key)#這邊因為發現每個功能都需要加密，因此直接寫一個加密的function\n",
    "        i = password % self.capacity#以加密後的數字取餘數，以此找出該資料要存的位置\n",
    "        if self.data[i] == None:#假設該位置還是None，表示該位置還沒存入任何資料，因此將node直接存在self.data中\n",
    "            self.data[i] = ListNode(password)\n",
    "        else:#如果self.data[i]已經有node，表示我需要以這個node為頭往後建linkedlist\n",
    "            node = self.data[i]\n",
    "            nodenext = node.next\n",
    "            while nodenext != None:#因為要新增node只要直接在最後面加一個node就好，因此直接走訪到最後就好\n",
    "                node = nodenext\n",
    "                nodenext = node.next\n",
    "            node.next = ListNode(password)\n",
    "            \n",
    "    def getpassword(self, key):#這邊參考助教提供的MD5加密方式，使用MD5的內建函式取出加密後的10進位數字，故不多做說明\n",
    "        h = MD5.new()\n",
    "        h.update(key.encode(\"utf-8\"))\n",
    "        return int(h.hexdigest(), 16)\n",
    "        "
   ]
  },
  {
   "cell_type": "markdown",
   "metadata": {},
   "source": [
    "## 查詢Contains\n",
    "    直覺告訴我刪除最難，因此我先寫查詢。查詢的概念是，先將加密後的key取餘數找出該key的linkedlist的頭會落在array的哪個index，只要這個頭還是None，就表示這個位置還沒有存入任何資料也不會有後面的linkedlist，因此回傳False。當該index有存入node，表示我要尋找的值可能就在這個頭所對應的linkedlist中，我就去尋找這條linkedlist，如果頭的值就是我的目標就馬上回傳True，不是的話就往後面找，找到就傳True，如果找到底還是沒找到就傳False。\n",
    "![contains](https://github.com/samuel80402/sam/blob/master/picture/contains.jpg?raw=true)\n",
    "    "
   ]
  },
  {
   "cell_type": "code",
   "execution_count": 6,
   "metadata": {},
   "outputs": [],
   "source": [
    "#參考資料: 助教測資與https://github.com/imucici/my-learning-note/blob/master/HW3/binary_search_tree_06170211.py\n",
    "class ListNode:\n",
    "    def __init__(self, val):\n",
    "        self.val = val\n",
    "        self.next = None\n",
    "        \"\"\"\n",
    "        :type val: int\n",
    "        :type next: ListNode\n",
    "        :rtype: None        \n",
    "        \"\"\"\n",
    "\n",
    "class MyHashSet:\n",
    "    def __init__(self, capacity=5):\n",
    "        self.capacity = capacity\n",
    "        self.data = [None] * capacity\n",
    "        \"\"\"\n",
    "        :type capacity: int\n",
    "        :rtype: None\n",
    "        \"\"\"\n",
    "    def add(self, key):\n",
    "        \"\"\"\n",
    "        :type key: str\n",
    "        :rtype: None\n",
    "        \"\"\"\n",
    "        password = self.getpassword(key)#這邊因為發現每個功能都需要加密，因此直接寫一個加密的function\n",
    "        i = password % self.capacity#以加密後的數字取餘數，以此找出該資料要存的位置\n",
    "        if self.data[i] == None:#假設該位置還是None，表示該位置還沒存入任何資料，因此將node直接存在self.data中\n",
    "            self.data[i] = ListNode(password)\n",
    "        else:#如果self.data[i]已經有node，表示我需要以這個node為頭往後建linkedlist\n",
    "            node = self.data[i]\n",
    "            nodenext = node.next\n",
    "            while nodenext != None:#因為要新增node只要直接在最後面加一個node就好，因此直接走訪到最後就好\n",
    "                node = nodenext\n",
    "                nodenext = node.next\n",
    "            node.next = ListNode(password)\n",
    "    def remove(self, key):\n",
    "        \"\"\"\n",
    "        :type key: str\n",
    "        :rtype: None\n",
    "        \"\"\"\n",
    "                        \n",
    "            \n",
    "    def contains(self, key):\n",
    "        \"\"\"\n",
    "        :type key: str\n",
    "        :rtype: bool(True or False)\n",
    "        \"\"\"\n",
    "        password = self.getpassword(key)\n",
    "        i = password % self.capacity\n",
    "        if self.data[i] == None:#當self.data[i]是None，表示該位置根本還沒存入任何資料，因此直接回傳False\n",
    "            return False\n",
    "        elif self.data[i].val == password:#如果第一個位置的值就是我要找的值就不用走訪linkedlist，直接回傳True\n",
    "            return True\n",
    "        else:\n",
    "            node = self.data[i]\n",
    "            nextnode = node.next\n",
    "            while nextnode:#這邊參考網址中以while去走訪的方式\n",
    "                if nextnode.val == password:\n",
    "                    return True#只要我一走訪到我要找的值就回傳True，結束程式\n",
    "                else:\n",
    "                    nextnode = nextnode.next\n",
    "            if nextnode == None:#這邊因為走到底都沒有找到所以回傳False\n",
    "                return False\n",
    "        \n",
    "    def getpassword(self, key):#這邊參考助教提供的MD5加密方式\n",
    "        h = MD5.new()\n",
    "        h.update(key.encode(\"utf-8\"))\n",
    "        return int(h.hexdigest(), 16)"
   ]
  },
  {
   "cell_type": "markdown",
   "metadata": {},
   "source": [
    "## 刪除remove\n",
    "    終於來到最難的刪除了，從這裡開始我花了大約四倍以上想其他功能的時間在想要怎麼寫，結果一直錯，一直想不到，直到後來才想通。這邊開始會針對幾個我想出來的版本進行說明，最後說明最終成功版本。這裡先附上我刪除的流程圖。\n",
    "![remove](https://github.com/samuel80402/sam/blob/master/picture/remove.jpg?raw=true)"
   ]
  },
  {
   "cell_type": "markdown",
   "metadata": {},
   "source": [
    "### 版本1\n",
    "    版本1是我一開始想到的，邏輯是當我遇到跟key一樣的值時，如果該node後面有節點，就把該node後面的節點接到前面的節點，從而跳過擁有Key值的節點，實現刪除的步驟。self.data[i]的部分由於是頭，所以當頭為key時，如果頭後面有node就把後面的node視為新的頭，沒有就直接存None。這段程式碼由於沒有寫好，細節也沒考慮到，因此刪除之後還是失敗。"
   ]
  },
  {
   "cell_type": "code",
   "execution_count": 7,
   "metadata": {},
   "outputs": [],
   "source": [
    "class ListNode:\n",
    "    def __init__(self, val):\n",
    "        self.val = val\n",
    "        self.next = None\n",
    "        \"\"\"\n",
    "        :type val: int\n",
    "        :type next: ListNode\n",
    "        :rtype: None        \n",
    "        \"\"\"\n",
    "\n",
    "class MyHashSet:\n",
    "    def __init__(self, capacity=5):\n",
    "        self.capacity = capacity\n",
    "        self.data = [None] * capacity\n",
    "        \"\"\"\n",
    "        :type capacity: int\n",
    "        :rtype: None\n",
    "        \"\"\"\n",
    "\n",
    "        \n",
    "    def remove(self, key):\n",
    "        \"\"\"\n",
    "        :type key: str\n",
    "        :rtype: None\n",
    "        \"\"\"\n",
    "        password = self.getpassword(key)\n",
    "        i = password % self.capacity\n",
    "        if self.data[i].val == password:\n",
    "            if self.data[i].next:\n",
    "                self.data[i] = self.data[i].next\n",
    "                self.remove(key)#由於後面可能有重複值，因此再度呼叫function重跑一次\n",
    "            else:\n",
    "                self.data[i] = None\n",
    "        else:\n",
    "            if self.data[i].next:\n",
    "                n = self.data[i]\n",
    "                nnext = n.next\n",
    "                while nnext != password:#當找到key時就停止這個迴圈\n",
    "                    n = nnext\n",
    "                    nnext = n.next\n",
    "                if nnext.next:#如果有下個節點，就把上個節點跳過該節點直接接下個節點\n",
    "                    n.next = nnext.next\n",
    "                    self.remove(key)\n",
    "                else:\n",
    "                    n.next = None#如果沒有下個節點，就直接存None\n",
    "                \n",
    "\n",
    "        \n",
    "    def getpassword(self, key):\n",
    "        h = MD5.new()\n",
    "        h.update(key.encode(\"utf-8\"))\n",
    "        return int(h.hexdigest(), 16)\n",
    "        "
   ]
  },
  {
   "cell_type": "markdown",
   "metadata": {},
   "source": [
    "### 版本2\n",
    "    由於上個版本錯誤，我就想說我可不可以在ListNode寫一個remove程式，然後hash set裡面的程式就只要呼叫這個remove程式就行了，但這個方法也還是失敗，邏輯一樣是走訪找到並刪除，但就是無法成功。以下會呈現我寫過呼叫ListNode remove的各種版本。"
   ]
  },
  {
   "cell_type": "code",
   "execution_count": 8,
   "metadata": {},
   "outputs": [],
   "source": [
    "class ListNode:\n",
    "    def __init__(self, val):\n",
    "        self.val = val\n",
    "        self.next = None\n",
    "        \"\"\"\n",
    "        :type val: int\n",
    "        :type next: ListNode\n",
    "        :rtype: None        \n",
    "        \"\"\"\n",
    "    def remove(self, val):#這個版本沒有想太多，就只是如果找不到就往下個節點找，找到就重新接上節點，然後再次往下走訪\n",
    "        if self.val != val:\n",
    "            if self.next:\n",
    "                return self.next.remove(val)\n",
    "        else:\n",
    "            self = self.next\n",
    "            return self.remove(val)\n",
    "        \n",
    "    def removed1(self, val):#這個版本算是取巧的版本，如果我讓值=None，就算沒有接成正確的結構，用contains也找不到，因此後來就改掉了\n",
    "        if self.val != val:\n",
    "            if self.next:\n",
    "                return self.next.removed(val)\n",
    "        else:\n",
    "            if self.next:\n",
    "                self.val = None\n",
    "                return self.next.removed(val)\n",
    "            \n",
    "    def removed2(self, val):#這個算是考慮最多的，因為我把一步一步寫下來覺得程式應該怎麼進行，再把重複的部分改成呼叫自己\n",
    "        if self.val == val:\n",
    "            if self.next == None:\n",
    "                self = None\n",
    "            else:\n",
    "                self = self.next\n",
    "                return self.removed(val)\n",
    "        else:\n",
    "            if self.next !=None:\n",
    "                if self.next.val == val:\n",
    "                    if self.next.next == None:\n",
    "                        self.next = None\n",
    "                    else:\n",
    "                        self.next = self.next.next\n",
    "                        return self.next.removed(val)\n",
    "                    \n",
    "class MyHashSet:\n",
    "    def __init__(self, capacity=5):\n",
    "        self.capacity = capacity\n",
    "        self.data = [None] * capacity\n",
    "        \"\"\"\n",
    "        :type capacity: int\n",
    "        :rtype: None\n",
    "        \"\"\"\n",
    "                    \n",
    "    def remove(self, key):\n",
    "        \"\"\"\n",
    "        :type key: str\n",
    "        :rtype: None\n",
    "        \"\"\"\n",
    "        password = self.getpassword(key)\n",
    "        i = password % self.capacity\n",
    "        self.data[i] = self.data[i].removed(password)\n",
    "        return self.data\n",
    "            "
   ]
  },
  {
   "cell_type": "markdown",
   "metadata": {},
   "source": [
    "### 最終版本\n",
    "    最終版本是在看了QA之後寫出來的，當我看了QA發現可以選擇不新增重複值之後，我就決定不想搞那麼麻煩了，刪除的部分就被我生出來了。最終刪除的邏輯跟前面也沒有差太多，但由於要刪除的資料只有一個，因此在走訪時只要找到該值，在把該值的前一個節點跳過該節點接上後一個節點，就大功告成了！"
   ]
  },
  {
   "cell_type": "code",
   "execution_count": 9,
   "metadata": {},
   "outputs": [],
   "source": [
    "from Crypto.Hash import MD5\n",
    "#參考資料: 助教測資與https://github.com/imucici/my-learning-note/blob/master/HW3/binary_search_tree_06170211.py\n",
    "\n",
    "class ListNode:\n",
    "    def __init__(self, val):\n",
    "        self.val = val\n",
    "        self.next = None\n",
    "\n",
    "\n",
    "class MyHashSet:\n",
    "    def __init__(self, capacity=5):\n",
    "        self.capacity = capacity\n",
    "        self.data = [None] * capacity\n",
    "\n",
    "    def add(self, key):\n",
    "        if self.contains(key) == False:#這裡新增了條件，當我在現存資料中找不到值時才會新增，就能避免掉重複的狀況\n",
    "            password = self.getpassword(key)\n",
    "            i = password % self.capacity\n",
    "            if self.data[i] == None:\n",
    "                self.data[i] = ListNode(password)\n",
    "            else:\n",
    "                node = self.data[i]\n",
    "                nodenext = node.next\n",
    "                while nodenext != None:#這邊參考網址中以while去走訪的方式\n",
    "                    node = nodenext\n",
    "                    nodenext = node.next\n",
    "                node.next = ListNode(password)\n",
    "        \n",
    "    def remove(self, key):\n",
    "        password = self.getpassword(key)\n",
    "        i = password % self.capacity\n",
    "        if self.data[i].val == password:\n",
    "            if self.data[i].next == None:#當我除了頭之外沒有其他節點了，我只需要把頭改成None就好了\n",
    "                self.data[i] = None\n",
    "            else:\n",
    "                self.data[i] = self.data[i].next#由於頭是我們唯一要刪除的值，若有下個節點就直接把下個節點指定為新的頭\n",
    "        else:\n",
    "            if self.data[i].next:#當頭不是我們要刪除的資料時，我只要看頭後面有節點的情況，沒有的話則表示沒有要刪除的值\n",
    "                n = self.data[i]\n",
    "                nnext = n.next\n",
    "                while nnext and nnext.val != password:#設置此條件後，迴圈就只會在沒有下一個或是找到值時停止\n",
    "                    n = nnext\n",
    "                    nnext = n.next\n",
    "                if nnext:#nnext如果存在就表示有找到值(即使可能是最後一個節點)，沒找到值的話nnext就會跑到None為止\n",
    "                    if nnext.next:#這邊預設如果找到值之後該節點後面還有節點，就把前節點跟後節點相接\n",
    "                        n.next = nnext.next\n",
    "                    else:#沒有後節點的話，就讓前節點後面直接接None，以刪除找到的值(這就是值在linkedlist尾巴的情況)\n",
    "                        n.next = None\n",
    "                \n",
    "        \n",
    "            \n",
    "    def contains(self, key):\n",
    "        password = self.getpassword(key)\n",
    "        i = password % self.capacity\n",
    "        if self.data[i] == None:\n",
    "            return False\n",
    "        elif self.data[i].val == password:\n",
    "            return True\n",
    "        else:\n",
    "            node = self.data[i]\n",
    "            nextnode = node.next\n",
    "            while nextnode:#這邊參考網址中以while去走訪的方式\n",
    "                if nextnode.val == password:\n",
    "                    return True\n",
    "                else:\n",
    "                    nextnode = nextnode.next\n",
    "            if nextnode == None:\n",
    "                return False\n",
    "        \n",
    "    def getpassword(self, key):#這邊參考助教提供的MD5加密方式\n",
    "        h = MD5.new()\n",
    "        h.update(key.encode(\"utf-8\"))\n",
    "        return int(h.hexdigest(), 16)"
   ]
  },
  {
   "cell_type": "markdown",
   "metadata": {},
   "source": [
    "## 成功!\n",
    "    在經過反覆的思考與改動之後我的所有功能終於成功了!以下是測試資料。"
   ]
  },
  {
   "cell_type": "code",
   "execution_count": 10,
   "metadata": {},
   "outputs": [
    {
     "name": "stdout",
     "output_type": "stream",
     "text": [
      "False False True True True True True True True\n"
     ]
    }
   ],
   "source": [
    "h = MyHashSet(10)\n",
    "h.add(\"a\")\n",
    "h.add(\"aa\")\n",
    "h.add(\"ads\")\n",
    "h.add(\"addd\")\n",
    "h.add(\"asaa\")\n",
    "h.add(\"addddd\")\n",
    "h.add(\"fdfsd\")\n",
    "h.add(\"fdeawa\")\n",
    "h.add(\"adwadw\")\n",
    "h.add(\"a\")\n",
    "h.add(\"aa\")\n",
    "h.add(\"a\")\n",
    "h.add(\"a\")\n",
    "h.add(\"a\")\n",
    "h.add(\"dsada\")\n",
    "h.remove(\"a\")\n",
    "h.remove(\"aa\")\n",
    "\n",
    "print(h.contains(\"a\")\n",
    ",h.contains(\"aa\")\n",
    ",h.contains(\"ads\")\n",
    ",h.contains(\"addd\")\n",
    ",h.contains(\"asaa\")\n",
    ",h.contains(\"addddd\")\n",
    ",h.contains(\"fdfsd\")\n",
    ",h.contains(\"fdeawa\")\n",
    ",h.contains(\"adwadw\"))\n"
   ]
  },
  {
   "cell_type": "markdown",
   "metadata": {},
   "source": [
    "## 心得\n",
    "    這次的hash table比上次的作業簡單很多，因為結構其實不複雜，只要知道怎麼結合Array跟Linkedlist就大致上知道怎麼做了，除了在刪除花比較多時間之外，其他幾乎都是馬上完成。希望可以每次都那麼簡單就好。"
   ]
  },
  {
   "cell_type": "markdown",
   "metadata": {},
   "source": [
    "## 參考資料\n",
    "[ppt中助教的測試資料](https://docs.google.com/presentation/d/e/2PACX-1vT1HO9Nl475k2bR0l1x8_Tr4V5Wzx0BEqp9bpmHckvj8kTeJehhYVlOJUDVPhLQm6kjGCJ_sLMSBUw5/pub?start=false&loop=false&delayms=3000&slide=id.g790b8351ca_0_175)\n",
    "[同學的while迴圈概念(HW3)](https://github.com/imucici/my-learning-note/blob/master/HW3/binary_search_tree_06170211.py)"
   ]
  }
 ],
 "metadata": {
  "kernelspec": {
   "display_name": "Python 3",
   "language": "python",
   "name": "python3"
  },
  "language_info": {
   "codemirror_mode": {
    "name": "ipython",
    "version": 3
   },
   "file_extension": ".py",
   "mimetype": "text/x-python",
   "name": "python",
   "nbconvert_exporter": "python",
   "pygments_lexer": "ipython3",
   "version": "3.7.1"
  }
 },
 "nbformat": 4,
 "nbformat_minor": 2
}
